{
 "cells": [
  {
   "cell_type": "code",
   "execution_count": 145,
   "metadata": {},
   "outputs": [
    {
     "name": "stdout",
     "output_type": "stream",
     "text": [
      "<class 'pandas.core.frame.DataFrame'>\n",
      "RangeIndex: 186 entries, 0 to 185\n",
      "Data columns (total 34 columns):\n",
      "CountryID                      186 non-null int64\n",
      "Country Name                   186 non-null object\n",
      "WEBNAME                        186 non-null object\n",
      "Region                         186 non-null object\n",
      "World Rank                     180 non-null float64\n",
      "Region Rank                    180 non-null float64\n",
      "2019 Score                     180 non-null float64\n",
      "Property Rights                185 non-null float64\n",
      "Judical Effectiveness          185 non-null float64\n",
      "Government Integrity           185 non-null float64\n",
      "Tax Burden                     180 non-null float64\n",
      "Gov't Spending                 183 non-null float64\n",
      "Fiscal Health                  183 non-null float64\n",
      "Business Freedom               185 non-null float64\n",
      "Labor Freedom                  184 non-null float64\n",
      "Monetary Freedom               184 non-null float64\n",
      "Trade Freedom                  182 non-null float64\n",
      "Investment Freedom             184 non-null float64\n",
      "Financial Freedom              181 non-null float64\n",
      "Tariff Rate (%)                182 non-null float64\n",
      "Income Tax Rate (%)            183 non-null float64\n",
      "Corporate Tax Rate (%)         183 non-null float64\n",
      "Tax Burden % of GDP            179 non-null float64\n",
      "Gov't Expenditure % of GDP     182 non-null float64\n",
      "Country                        186 non-null object\n",
      "Population (Millions)          186 non-null object\n",
      "GDP (Billions, PPP)            185 non-null object\n",
      "GDP Growth Rate (%)            184 non-null float64\n",
      "5 Year GDP Growth Rate (%)     183 non-null float64\n",
      "GDP per Capita (PPP)           184 non-null object\n",
      "Unemployment (%)               181 non-null object\n",
      "Inflation (%)                  182 non-null float64\n",
      "FDI Inflow (Millions)          181 non-null object\n",
      "Public Debt (% of GDP)         182 non-null float64\n",
      "dtypes: float64(24), int64(1), object(9)\n",
      "memory usage: 49.5+ KB\n"
     ]
    }
   ],
   "source": [
    "import pandas as pd\n",
    "import numpy as np\n",
    "import matplotlib.pyplot as plt\n",
    "\n",
    "df = pd.read_csv('./economic_freedom_index2019_data.csv')\n",
    "df.info()"
   ]
  },
  {
   "cell_type": "code",
   "execution_count": 146,
   "metadata": {},
   "outputs": [
    {
     "data": {
      "text/html": [
       "<div>\n",
       "<style scoped>\n",
       "    .dataframe tbody tr th:only-of-type {\n",
       "        vertical-align: middle;\n",
       "    }\n",
       "\n",
       "    .dataframe tbody tr th {\n",
       "        vertical-align: top;\n",
       "    }\n",
       "\n",
       "    .dataframe thead th {\n",
       "        text-align: right;\n",
       "    }\n",
       "</style>\n",
       "<table border=\"1\" class=\"dataframe\">\n",
       "  <thead>\n",
       "    <tr style=\"text-align: right;\">\n",
       "      <th></th>\n",
       "      <th>CountryID</th>\n",
       "      <th>Country Name</th>\n",
       "      <th>WEBNAME</th>\n",
       "      <th>Region</th>\n",
       "      <th>World Rank</th>\n",
       "      <th>Region Rank</th>\n",
       "      <th>2019 Score</th>\n",
       "      <th>Property Rights</th>\n",
       "      <th>Judical Effectiveness</th>\n",
       "      <th>Government Integrity</th>\n",
       "      <th>...</th>\n",
       "      <th>Country</th>\n",
       "      <th>Population (Millions)</th>\n",
       "      <th>GDP (Billions, PPP)</th>\n",
       "      <th>GDP Growth Rate (%)</th>\n",
       "      <th>5 Year GDP Growth Rate (%)</th>\n",
       "      <th>GDP per Capita (PPP)</th>\n",
       "      <th>Unemployment (%)</th>\n",
       "      <th>Inflation (%)</th>\n",
       "      <th>FDI Inflow (Millions)</th>\n",
       "      <th>Public Debt (% of GDP)</th>\n",
       "    </tr>\n",
       "  </thead>\n",
       "  <tbody>\n",
       "    <tr>\n",
       "      <th>0</th>\n",
       "      <td>1</td>\n",
       "      <td>Afghanistan</td>\n",
       "      <td>Afghanistan</td>\n",
       "      <td>Asia-Pacific</td>\n",
       "      <td>152.0</td>\n",
       "      <td>39.0</td>\n",
       "      <td>51.5</td>\n",
       "      <td>19.6</td>\n",
       "      <td>29.6</td>\n",
       "      <td>25.2</td>\n",
       "      <td>...</td>\n",
       "      <td>Afghanistan</td>\n",
       "      <td>35.5</td>\n",
       "      <td>$69.6</td>\n",
       "      <td>2.5</td>\n",
       "      <td>2.9</td>\n",
       "      <td>$1,958</td>\n",
       "      <td>8.8</td>\n",
       "      <td>5.0</td>\n",
       "      <td>53.9</td>\n",
       "      <td>7.3</td>\n",
       "    </tr>\n",
       "    <tr>\n",
       "      <th>1</th>\n",
       "      <td>2</td>\n",
       "      <td>Albania</td>\n",
       "      <td>Albania</td>\n",
       "      <td>Europe</td>\n",
       "      <td>52.0</td>\n",
       "      <td>27.0</td>\n",
       "      <td>66.5</td>\n",
       "      <td>54.8</td>\n",
       "      <td>30.6</td>\n",
       "      <td>40.4</td>\n",
       "      <td>...</td>\n",
       "      <td>Albania</td>\n",
       "      <td>2.9</td>\n",
       "      <td>$36.0</td>\n",
       "      <td>3.9</td>\n",
       "      <td>2.5</td>\n",
       "      <td>$12,507</td>\n",
       "      <td>13.9</td>\n",
       "      <td>2.0</td>\n",
       "      <td>1,119.1</td>\n",
       "      <td>71.2</td>\n",
       "    </tr>\n",
       "    <tr>\n",
       "      <th>2</th>\n",
       "      <td>3</td>\n",
       "      <td>Algeria</td>\n",
       "      <td>Algeria</td>\n",
       "      <td>Middle East and North Africa</td>\n",
       "      <td>171.0</td>\n",
       "      <td>14.0</td>\n",
       "      <td>46.2</td>\n",
       "      <td>31.6</td>\n",
       "      <td>36.2</td>\n",
       "      <td>28.9</td>\n",
       "      <td>...</td>\n",
       "      <td>Algeria</td>\n",
       "      <td>41.5</td>\n",
       "      <td>$632.9</td>\n",
       "      <td>2.0</td>\n",
       "      <td>3.1</td>\n",
       "      <td>$15,237</td>\n",
       "      <td>10.0</td>\n",
       "      <td>5.6</td>\n",
       "      <td>1,203.0</td>\n",
       "      <td>25.8</td>\n",
       "    </tr>\n",
       "    <tr>\n",
       "      <th>3</th>\n",
       "      <td>4</td>\n",
       "      <td>Angola</td>\n",
       "      <td>Angola</td>\n",
       "      <td>Sub-Saharan Africa</td>\n",
       "      <td>156.0</td>\n",
       "      <td>33.0</td>\n",
       "      <td>50.6</td>\n",
       "      <td>35.9</td>\n",
       "      <td>26.6</td>\n",
       "      <td>20.5</td>\n",
       "      <td>...</td>\n",
       "      <td>Angola</td>\n",
       "      <td>28.2</td>\n",
       "      <td>$190.3</td>\n",
       "      <td>0.7</td>\n",
       "      <td>2.9</td>\n",
       "      <td>$6,753</td>\n",
       "      <td>8.2</td>\n",
       "      <td>31.7</td>\n",
       "      <td>-2,254.5</td>\n",
       "      <td>65.3</td>\n",
       "    </tr>\n",
       "  </tbody>\n",
       "</table>\n",
       "<p>4 rows × 34 columns</p>\n",
       "</div>"
      ],
      "text/plain": [
       "   CountryID Country Name      WEBNAME                        Region  \\\n",
       "0          1  Afghanistan  Afghanistan                  Asia-Pacific   \n",
       "1          2      Albania      Albania                        Europe   \n",
       "2          3      Algeria      Algeria  Middle East and North Africa   \n",
       "3          4       Angola       Angola            Sub-Saharan Africa   \n",
       "\n",
       "   World Rank  Region Rank  2019 Score  Property Rights  \\\n",
       "0       152.0         39.0        51.5             19.6   \n",
       "1        52.0         27.0        66.5             54.8   \n",
       "2       171.0         14.0        46.2             31.6   \n",
       "3       156.0         33.0        50.6             35.9   \n",
       "\n",
       "   Judical Effectiveness  Government Integrity  ...      Country  \\\n",
       "0                   29.6                  25.2  ...  Afghanistan   \n",
       "1                   30.6                  40.4  ...      Albania   \n",
       "2                   36.2                  28.9  ...      Algeria   \n",
       "3                   26.6                  20.5  ...       Angola   \n",
       "\n",
       "   Population (Millions)  GDP (Billions, PPP)  GDP Growth Rate (%)  \\\n",
       "0                   35.5               $69.6                   2.5   \n",
       "1                    2.9               $36.0                   3.9   \n",
       "2                   41.5              $632.9                   2.0   \n",
       "3                   28.2              $190.3                   0.7   \n",
       "\n",
       "   5 Year GDP Growth Rate (%)  GDP per Capita (PPP)  Unemployment (%)  \\\n",
       "0                         2.9                $1,958               8.8   \n",
       "1                         2.5               $12,507              13.9   \n",
       "2                         3.1               $15,237              10.0   \n",
       "3                         2.9                $6,753               8.2   \n",
       "\n",
       "   Inflation (%)  FDI Inflow (Millions)  Public Debt (% of GDP)  \n",
       "0            5.0                   53.9                     7.3  \n",
       "1            2.0                1,119.1                    71.2  \n",
       "2            5.6                1,203.0                    25.8  \n",
       "3           31.7               -2,254.5                    65.3  \n",
       "\n",
       "[4 rows x 34 columns]"
      ]
     },
     "execution_count": 146,
     "metadata": {},
     "output_type": "execute_result"
    }
   ],
   "source": [
    "df.head(4)"
   ]
  },
  {
   "cell_type": "markdown",
   "metadata": {},
   "source": [
    "### It would seem that the 'WEBNAME' and 'Country' columns are reduntant."
   ]
  },
  {
   "cell_type": "code",
   "execution_count": 147,
   "metadata": {},
   "outputs": [
    {
     "name": "stdout",
     "output_type": "stream",
     "text": [
      "False\n"
     ]
    }
   ],
   "source": [
    "print(df['Country Name'].equals(df['WEBNAME']))"
   ]
  },
  {
   "cell_type": "code",
   "execution_count": 148,
   "metadata": {},
   "outputs": [
    {
     "name": "stdout",
     "output_type": "stream",
     "text": [
      "False\n"
     ]
    }
   ],
   "source": [
    "print(df['Country Name'].equals(df['Country']))"
   ]
  },
  {
   "cell_type": "markdown",
   "metadata": {},
   "source": [
    "### Although there might be some slight differences, let's delete them to make our code simpler"
   ]
  },
  {
   "cell_type": "code",
   "execution_count": 149,
   "metadata": {},
   "outputs": [],
   "source": [
    "df.drop('WEBNAME', axis=1, inplace=True)\n",
    "df.drop('Country', axis=1, inplace=True)"
   ]
  },
  {
   "cell_type": "code",
   "execution_count": 150,
   "metadata": {},
   "outputs": [
    {
     "data": {
      "text/html": [
       "<div>\n",
       "<style scoped>\n",
       "    .dataframe tbody tr th:only-of-type {\n",
       "        vertical-align: middle;\n",
       "    }\n",
       "\n",
       "    .dataframe tbody tr th {\n",
       "        vertical-align: top;\n",
       "    }\n",
       "\n",
       "    .dataframe thead th {\n",
       "        text-align: right;\n",
       "    }\n",
       "</style>\n",
       "<table border=\"1\" class=\"dataframe\">\n",
       "  <thead>\n",
       "    <tr style=\"text-align: right;\">\n",
       "      <th></th>\n",
       "      <th>CountryID</th>\n",
       "      <th>Country Name</th>\n",
       "      <th>Region</th>\n",
       "      <th>World Rank</th>\n",
       "      <th>Region Rank</th>\n",
       "      <th>2019 Score</th>\n",
       "      <th>Property Rights</th>\n",
       "      <th>Judical Effectiveness</th>\n",
       "      <th>Government Integrity</th>\n",
       "      <th>Tax Burden</th>\n",
       "      <th>...</th>\n",
       "      <th>Gov't Expenditure % of GDP</th>\n",
       "      <th>Population (Millions)</th>\n",
       "      <th>GDP (Billions, PPP)</th>\n",
       "      <th>GDP Growth Rate (%)</th>\n",
       "      <th>5 Year GDP Growth Rate (%)</th>\n",
       "      <th>GDP per Capita (PPP)</th>\n",
       "      <th>Unemployment (%)</th>\n",
       "      <th>Inflation (%)</th>\n",
       "      <th>FDI Inflow (Millions)</th>\n",
       "      <th>Public Debt (% of GDP)</th>\n",
       "    </tr>\n",
       "  </thead>\n",
       "  <tbody>\n",
       "    <tr>\n",
       "      <th>0</th>\n",
       "      <td>1</td>\n",
       "      <td>Afghanistan</td>\n",
       "      <td>Asia-Pacific</td>\n",
       "      <td>152.0</td>\n",
       "      <td>39.0</td>\n",
       "      <td>51.5</td>\n",
       "      <td>19.6</td>\n",
       "      <td>29.6</td>\n",
       "      <td>25.2</td>\n",
       "      <td>91.7</td>\n",
       "      <td>...</td>\n",
       "      <td>25.6</td>\n",
       "      <td>35.5</td>\n",
       "      <td>$69.6</td>\n",
       "      <td>2.5</td>\n",
       "      <td>2.9</td>\n",
       "      <td>$1,958</td>\n",
       "      <td>8.8</td>\n",
       "      <td>5.0</td>\n",
       "      <td>53.9</td>\n",
       "      <td>7.3</td>\n",
       "    </tr>\n",
       "    <tr>\n",
       "      <th>1</th>\n",
       "      <td>2</td>\n",
       "      <td>Albania</td>\n",
       "      <td>Europe</td>\n",
       "      <td>52.0</td>\n",
       "      <td>27.0</td>\n",
       "      <td>66.5</td>\n",
       "      <td>54.8</td>\n",
       "      <td>30.6</td>\n",
       "      <td>40.4</td>\n",
       "      <td>86.3</td>\n",
       "      <td>...</td>\n",
       "      <td>29.5</td>\n",
       "      <td>2.9</td>\n",
       "      <td>$36.0</td>\n",
       "      <td>3.9</td>\n",
       "      <td>2.5</td>\n",
       "      <td>$12,507</td>\n",
       "      <td>13.9</td>\n",
       "      <td>2.0</td>\n",
       "      <td>1,119.1</td>\n",
       "      <td>71.2</td>\n",
       "    </tr>\n",
       "    <tr>\n",
       "      <th>2</th>\n",
       "      <td>3</td>\n",
       "      <td>Algeria</td>\n",
       "      <td>Middle East and North Africa</td>\n",
       "      <td>171.0</td>\n",
       "      <td>14.0</td>\n",
       "      <td>46.2</td>\n",
       "      <td>31.6</td>\n",
       "      <td>36.2</td>\n",
       "      <td>28.9</td>\n",
       "      <td>76.4</td>\n",
       "      <td>...</td>\n",
       "      <td>41.4</td>\n",
       "      <td>41.5</td>\n",
       "      <td>$632.9</td>\n",
       "      <td>2.0</td>\n",
       "      <td>3.1</td>\n",
       "      <td>$15,237</td>\n",
       "      <td>10.0</td>\n",
       "      <td>5.6</td>\n",
       "      <td>1,203.0</td>\n",
       "      <td>25.8</td>\n",
       "    </tr>\n",
       "    <tr>\n",
       "      <th>3</th>\n",
       "      <td>4</td>\n",
       "      <td>Angola</td>\n",
       "      <td>Sub-Saharan Africa</td>\n",
       "      <td>156.0</td>\n",
       "      <td>33.0</td>\n",
       "      <td>50.6</td>\n",
       "      <td>35.9</td>\n",
       "      <td>26.6</td>\n",
       "      <td>20.5</td>\n",
       "      <td>83.9</td>\n",
       "      <td>...</td>\n",
       "      <td>25.3</td>\n",
       "      <td>28.2</td>\n",
       "      <td>$190.3</td>\n",
       "      <td>0.7</td>\n",
       "      <td>2.9</td>\n",
       "      <td>$6,753</td>\n",
       "      <td>8.2</td>\n",
       "      <td>31.7</td>\n",
       "      <td>-2,254.5</td>\n",
       "      <td>65.3</td>\n",
       "    </tr>\n",
       "  </tbody>\n",
       "</table>\n",
       "<p>4 rows × 32 columns</p>\n",
       "</div>"
      ],
      "text/plain": [
       "   CountryID Country Name                        Region  World Rank  \\\n",
       "0          1  Afghanistan                  Asia-Pacific       152.0   \n",
       "1          2      Albania                        Europe        52.0   \n",
       "2          3      Algeria  Middle East and North Africa       171.0   \n",
       "3          4       Angola            Sub-Saharan Africa       156.0   \n",
       "\n",
       "   Region Rank  2019 Score  Property Rights  Judical Effectiveness  \\\n",
       "0         39.0        51.5             19.6                   29.6   \n",
       "1         27.0        66.5             54.8                   30.6   \n",
       "2         14.0        46.2             31.6                   36.2   \n",
       "3         33.0        50.6             35.9                   26.6   \n",
       "\n",
       "   Government Integrity  Tax Burden  ...  Gov't Expenditure % of GDP   \\\n",
       "0                  25.2        91.7  ...                         25.6   \n",
       "1                  40.4        86.3  ...                         29.5   \n",
       "2                  28.9        76.4  ...                         41.4   \n",
       "3                  20.5        83.9  ...                         25.3   \n",
       "\n",
       "   Population (Millions)  GDP (Billions, PPP)  GDP Growth Rate (%)  \\\n",
       "0                   35.5               $69.6                   2.5   \n",
       "1                    2.9               $36.0                   3.9   \n",
       "2                   41.5              $632.9                   2.0   \n",
       "3                   28.2              $190.3                   0.7   \n",
       "\n",
       "   5 Year GDP Growth Rate (%)  GDP per Capita (PPP)  Unemployment (%)  \\\n",
       "0                         2.9                $1,958               8.8   \n",
       "1                         2.5               $12,507              13.9   \n",
       "2                         3.1               $15,237              10.0   \n",
       "3                         2.9                $6,753               8.2   \n",
       "\n",
       "   Inflation (%)  FDI Inflow (Millions)  Public Debt (% of GDP)  \n",
       "0            5.0                   53.9                     7.3  \n",
       "1            2.0                1,119.1                    71.2  \n",
       "2            5.6                1,203.0                    25.8  \n",
       "3           31.7               -2,254.5                    65.3  \n",
       "\n",
       "[4 rows x 32 columns]"
      ]
     },
     "execution_count": 150,
     "metadata": {},
     "output_type": "execute_result"
    }
   ],
   "source": [
    "df.head(4)"
   ]
  },
  {
   "cell_type": "markdown",
   "metadata": {},
   "source": [
    "### Null values are a hassle. Although it must be noted that many statistical methods ignore them and sometimes they are useful.\n",
    "\n",
    "#### We will not need them so let's get rid of them\n"
   ]
  },
  {
   "cell_type": "code",
   "execution_count": 151,
   "metadata": {},
   "outputs": [
    {
     "data": {
      "text/plain": [
       "CountryID                      0\n",
       "Country Name                   0\n",
       "Region                         0\n",
       "World Rank                     6\n",
       "Region Rank                    6\n",
       "2019 Score                     6\n",
       "Property Rights                1\n",
       "Judical Effectiveness          1\n",
       "Government Integrity           1\n",
       "Tax Burden                     6\n",
       "Gov't Spending                 3\n",
       "Fiscal Health                  3\n",
       "Business Freedom               1\n",
       "Labor Freedom                  2\n",
       "Monetary Freedom               2\n",
       "Trade Freedom                  4\n",
       "Investment Freedom             2\n",
       "Financial Freedom              5\n",
       "Tariff Rate (%)                4\n",
       "Income Tax Rate (%)            3\n",
       "Corporate Tax Rate (%)         3\n",
       "Tax Burden % of GDP            7\n",
       "Gov't Expenditure % of GDP     4\n",
       "Population (Millions)          0\n",
       "GDP (Billions, PPP)            1\n",
       "GDP Growth Rate (%)            2\n",
       "5 Year GDP Growth Rate (%)     3\n",
       "GDP per Capita (PPP)           2\n",
       "Unemployment (%)               5\n",
       "Inflation (%)                  4\n",
       "FDI Inflow (Millions)          5\n",
       "Public Debt (% of GDP)         4\n",
       "dtype: int64"
      ]
     },
     "execution_count": 151,
     "metadata": {},
     "output_type": "execute_result"
    }
   ],
   "source": [
    "df.isna().sum()"
   ]
  },
  {
   "cell_type": "markdown",
   "metadata": {},
   "source": [
    "### We could be losing out on a lot here. Maybe, some rows have only 1 value missing which means that we can use all other entries"
   ]
  },
  {
   "cell_type": "code",
   "execution_count": 152,
   "metadata": {},
   "outputs": [
    {
     "data": {
      "text/html": [
       "<div>\n",
       "<style scoped>\n",
       "    .dataframe tbody tr th:only-of-type {\n",
       "        vertical-align: middle;\n",
       "    }\n",
       "\n",
       "    .dataframe tbody tr th {\n",
       "        vertical-align: top;\n",
       "    }\n",
       "\n",
       "    .dataframe thead th {\n",
       "        text-align: right;\n",
       "    }\n",
       "</style>\n",
       "<table border=\"1\" class=\"dataframe\">\n",
       "  <thead>\n",
       "    <tr style=\"text-align: right;\">\n",
       "      <th></th>\n",
       "      <th>CountryID</th>\n",
       "      <th>Country Name</th>\n",
       "      <th>Region</th>\n",
       "      <th>World Rank</th>\n",
       "      <th>Region Rank</th>\n",
       "      <th>2019 Score</th>\n",
       "      <th>Property Rights</th>\n",
       "      <th>Judical Effectiveness</th>\n",
       "      <th>Government Integrity</th>\n",
       "      <th>Tax Burden</th>\n",
       "      <th>...</th>\n",
       "      <th>Gov't Expenditure % of GDP</th>\n",
       "      <th>Population (Millions)</th>\n",
       "      <th>GDP (Billions, PPP)</th>\n",
       "      <th>GDP Growth Rate (%)</th>\n",
       "      <th>5 Year GDP Growth Rate (%)</th>\n",
       "      <th>GDP per Capita (PPP)</th>\n",
       "      <th>Unemployment (%)</th>\n",
       "      <th>Inflation (%)</th>\n",
       "      <th>FDI Inflow (Millions)</th>\n",
       "      <th>Public Debt (% of GDP)</th>\n",
       "    </tr>\n",
       "  </thead>\n",
       "  <tbody>\n",
       "    <tr>\n",
       "      <th>42</th>\n",
       "      <td>42</td>\n",
       "      <td>Cuba</td>\n",
       "      <td>Americas</td>\n",
       "      <td>178.0</td>\n",
       "      <td>31.0</td>\n",
       "      <td>27.8</td>\n",
       "      <td>31.6</td>\n",
       "      <td>10.0</td>\n",
       "      <td>37.7</td>\n",
       "      <td>48.8</td>\n",
       "      <td>...</td>\n",
       "      <td>64.2</td>\n",
       "      <td>11.5</td>\n",
       "      <td>$148.0</td>\n",
       "      <td>0.9</td>\n",
       "      <td>1.9</td>\n",
       "      <td>$12,920</td>\n",
       "      <td>2.6</td>\n",
       "      <td>5.5</td>\n",
       "      <td>NaN</td>\n",
       "      <td>47.7</td>\n",
       "    </tr>\n",
       "    <tr>\n",
       "      <th>47</th>\n",
       "      <td>47</td>\n",
       "      <td>Dominica</td>\n",
       "      <td>Americas</td>\n",
       "      <td>72.0</td>\n",
       "      <td>14.0</td>\n",
       "      <td>63.6</td>\n",
       "      <td>49.2</td>\n",
       "      <td>63.8</td>\n",
       "      <td>54.5</td>\n",
       "      <td>72.1</td>\n",
       "      <td>...</td>\n",
       "      <td>39.4</td>\n",
       "      <td>0.1</td>\n",
       "      <td>$0.8</td>\n",
       "      <td>-4.2</td>\n",
       "      <td>0.0</td>\n",
       "      <td>$11,102</td>\n",
       "      <td>NaN</td>\n",
       "      <td>0.6</td>\n",
       "      <td>18.9</td>\n",
       "      <td>87.6</td>\n",
       "    </tr>\n",
       "    <tr>\n",
       "      <th>78</th>\n",
       "      <td>77</td>\n",
       "      <td>Iraq</td>\n",
       "      <td>Middle East and North Africa</td>\n",
       "      <td>NaN</td>\n",
       "      <td>NaN</td>\n",
       "      <td>NaN</td>\n",
       "      <td>37.0</td>\n",
       "      <td>12.3</td>\n",
       "      <td>20.3</td>\n",
       "      <td>NaN</td>\n",
       "      <td>...</td>\n",
       "      <td>39.7</td>\n",
       "      <td>38.9</td>\n",
       "      <td>$658.8</td>\n",
       "      <td>-0.8</td>\n",
       "      <td>4.7</td>\n",
       "      <td>$16,954</td>\n",
       "      <td>8.2</td>\n",
       "      <td>0.1</td>\n",
       "      <td>-5,032.4</td>\n",
       "      <td>58.0</td>\n",
       "    </tr>\n",
       "    <tr>\n",
       "      <th>87</th>\n",
       "      <td>86</td>\n",
       "      <td>Kiribati</td>\n",
       "      <td>Asia-Pacific</td>\n",
       "      <td>168.0</td>\n",
       "      <td>41.0</td>\n",
       "      <td>47.3</td>\n",
       "      <td>44.1</td>\n",
       "      <td>34.3</td>\n",
       "      <td>35.1</td>\n",
       "      <td>73.0</td>\n",
       "      <td>...</td>\n",
       "      <td>117.9</td>\n",
       "      <td>0.1</td>\n",
       "      <td>$0.2</td>\n",
       "      <td>3.1</td>\n",
       "      <td>3.6</td>\n",
       "      <td>$1,976</td>\n",
       "      <td>NaN</td>\n",
       "      <td>2.2</td>\n",
       "      <td>1.4</td>\n",
       "      <td>26.3</td>\n",
       "    </tr>\n",
       "    <tr>\n",
       "      <th>88</th>\n",
       "      <td>87</td>\n",
       "      <td>Korea, North</td>\n",
       "      <td>Asia-Pacific</td>\n",
       "      <td>180.0</td>\n",
       "      <td>43.0</td>\n",
       "      <td>5.9</td>\n",
       "      <td>31.6</td>\n",
       "      <td>5.0</td>\n",
       "      <td>24.4</td>\n",
       "      <td>0.0</td>\n",
       "      <td>...</td>\n",
       "      <td>100.0</td>\n",
       "      <td>25.4</td>\n",
       "      <td>$40.0 (2015 est.)</td>\n",
       "      <td>1.1</td>\n",
       "      <td>NaN</td>\n",
       "      <td>$1,700 (2015 est.)</td>\n",
       "      <td>4.8</td>\n",
       "      <td>NaN</td>\n",
       "      <td>63.4</td>\n",
       "      <td>NaN</td>\n",
       "    </tr>\n",
       "  </tbody>\n",
       "</table>\n",
       "<p>5 rows × 32 columns</p>\n",
       "</div>"
      ],
      "text/plain": [
       "    CountryID   Country Name                        Region  World Rank  \\\n",
       "42         42           Cuba                      Americas       178.0   \n",
       "47         47       Dominica                      Americas        72.0   \n",
       "78         77           Iraq  Middle East and North Africa         NaN   \n",
       "87         86       Kiribati                  Asia-Pacific       168.0   \n",
       "88         87  Korea, North                   Asia-Pacific       180.0   \n",
       "\n",
       "    Region Rank  2019 Score  Property Rights  Judical Effectiveness  \\\n",
       "42         31.0        27.8             31.6                   10.0   \n",
       "47         14.0        63.6             49.2                   63.8   \n",
       "78          NaN         NaN             37.0                   12.3   \n",
       "87         41.0        47.3             44.1                   34.3   \n",
       "88         43.0         5.9             31.6                    5.0   \n",
       "\n",
       "    Government Integrity  Tax Burden  ...  Gov't Expenditure % of GDP   \\\n",
       "42                  37.7        48.8  ...                         64.2   \n",
       "47                  54.5        72.1  ...                         39.4   \n",
       "78                  20.3         NaN  ...                         39.7   \n",
       "87                  35.1        73.0  ...                        117.9   \n",
       "88                  24.4         0.0  ...                        100.0   \n",
       "\n",
       "    Population (Millions)  GDP (Billions, PPP)  GDP Growth Rate (%)  \\\n",
       "42                   11.5              $148.0                   0.9   \n",
       "47                    0.1                $0.8                  -4.2   \n",
       "78                   38.9              $658.8                  -0.8   \n",
       "87                    0.1                $0.2                   3.1   \n",
       "88                   25.4    $40.0 (2015 est.)                  1.1   \n",
       "\n",
       "    5 Year GDP Growth Rate (%)  GDP per Capita (PPP)  Unemployment (%)  \\\n",
       "42                         1.9               $12,920               2.6   \n",
       "47                         0.0               $11,102               NaN   \n",
       "78                         4.7               $16,954               8.2   \n",
       "87                         3.6                $1,976               NaN   \n",
       "88                         NaN    $1,700 (2015 est.)               4.8   \n",
       "\n",
       "    Inflation (%)  FDI Inflow (Millions)  Public Debt (% of GDP)  \n",
       "42            5.5                    NaN                    47.7  \n",
       "47            0.6                   18.9                    87.6  \n",
       "78            0.1               -5,032.4                    58.0  \n",
       "87            2.2                    1.4                    26.3  \n",
       "88            NaN                   63.4                     NaN  \n",
       "\n",
       "[5 rows x 32 columns]"
      ]
     },
     "execution_count": 152,
     "metadata": {},
     "output_type": "execute_result"
    }
   ],
   "source": [
    "new_df = df[pd.isnull(df).any(axis=1)]\n",
    "new_df.head()\n"
   ]
  },
  {
   "cell_type": "code",
   "execution_count": 153,
   "metadata": {},
   "outputs": [
    {
     "data": {
      "text/html": [
       "<div>\n",
       "<style scoped>\n",
       "    .dataframe tbody tr th:only-of-type {\n",
       "        vertical-align: middle;\n",
       "    }\n",
       "\n",
       "    .dataframe tbody tr th {\n",
       "        vertical-align: top;\n",
       "    }\n",
       "\n",
       "    .dataframe thead th {\n",
       "        text-align: right;\n",
       "    }\n",
       "</style>\n",
       "<table border=\"1\" class=\"dataframe\">\n",
       "  <thead>\n",
       "    <tr style=\"text-align: right;\">\n",
       "      <th></th>\n",
       "      <th>CountryID</th>\n",
       "      <th>Country Name</th>\n",
       "      <th>Region</th>\n",
       "      <th>World Rank</th>\n",
       "      <th>Region Rank</th>\n",
       "      <th>2019 Score</th>\n",
       "      <th>Property Rights</th>\n",
       "      <th>Judical Effectiveness</th>\n",
       "      <th>Government Integrity</th>\n",
       "      <th>Tax Burden</th>\n",
       "      <th>...</th>\n",
       "      <th>Gov't Expenditure % of GDP</th>\n",
       "      <th>Population (Millions)</th>\n",
       "      <th>GDP (Billions, PPP)</th>\n",
       "      <th>GDP Growth Rate (%)</th>\n",
       "      <th>5 Year GDP Growth Rate (%)</th>\n",
       "      <th>GDP per Capita (PPP)</th>\n",
       "      <th>Unemployment (%)</th>\n",
       "      <th>Inflation (%)</th>\n",
       "      <th>FDI Inflow (Millions)</th>\n",
       "      <th>Public Debt (% of GDP)</th>\n",
       "    </tr>\n",
       "  </thead>\n",
       "  <tbody>\n",
       "    <tr>\n",
       "      <th>42</th>\n",
       "      <td>42</td>\n",
       "      <td>Cuba</td>\n",
       "      <td>Americas</td>\n",
       "      <td>178.0</td>\n",
       "      <td>31.0</td>\n",
       "      <td>27.8</td>\n",
       "      <td>31.6</td>\n",
       "      <td>10.0</td>\n",
       "      <td>37.7</td>\n",
       "      <td>48.8</td>\n",
       "      <td>...</td>\n",
       "      <td>64.2</td>\n",
       "      <td>11.5</td>\n",
       "      <td>$148.0</td>\n",
       "      <td>0.9</td>\n",
       "      <td>1.9</td>\n",
       "      <td>$12,920</td>\n",
       "      <td>2.6</td>\n",
       "      <td>5.5</td>\n",
       "      <td>NaN</td>\n",
       "      <td>47.7</td>\n",
       "    </tr>\n",
       "    <tr>\n",
       "      <th>47</th>\n",
       "      <td>47</td>\n",
       "      <td>Dominica</td>\n",
       "      <td>Americas</td>\n",
       "      <td>72.0</td>\n",
       "      <td>14.0</td>\n",
       "      <td>63.6</td>\n",
       "      <td>49.2</td>\n",
       "      <td>63.8</td>\n",
       "      <td>54.5</td>\n",
       "      <td>72.1</td>\n",
       "      <td>...</td>\n",
       "      <td>39.4</td>\n",
       "      <td>0.1</td>\n",
       "      <td>$0.8</td>\n",
       "      <td>-4.2</td>\n",
       "      <td>0.0</td>\n",
       "      <td>$11,102</td>\n",
       "      <td>NaN</td>\n",
       "      <td>0.6</td>\n",
       "      <td>18.9</td>\n",
       "      <td>87.6</td>\n",
       "    </tr>\n",
       "    <tr>\n",
       "      <th>78</th>\n",
       "      <td>77</td>\n",
       "      <td>Iraq</td>\n",
       "      <td>Middle East and North Africa</td>\n",
       "      <td>NaN</td>\n",
       "      <td>NaN</td>\n",
       "      <td>NaN</td>\n",
       "      <td>37.0</td>\n",
       "      <td>12.3</td>\n",
       "      <td>20.3</td>\n",
       "      <td>NaN</td>\n",
       "      <td>...</td>\n",
       "      <td>39.7</td>\n",
       "      <td>38.9</td>\n",
       "      <td>$658.8</td>\n",
       "      <td>-0.8</td>\n",
       "      <td>4.7</td>\n",
       "      <td>$16,954</td>\n",
       "      <td>8.2</td>\n",
       "      <td>0.1</td>\n",
       "      <td>-5,032.4</td>\n",
       "      <td>58.0</td>\n",
       "    </tr>\n",
       "    <tr>\n",
       "      <th>87</th>\n",
       "      <td>86</td>\n",
       "      <td>Kiribati</td>\n",
       "      <td>Asia-Pacific</td>\n",
       "      <td>168.0</td>\n",
       "      <td>41.0</td>\n",
       "      <td>47.3</td>\n",
       "      <td>44.1</td>\n",
       "      <td>34.3</td>\n",
       "      <td>35.1</td>\n",
       "      <td>73.0</td>\n",
       "      <td>...</td>\n",
       "      <td>117.9</td>\n",
       "      <td>0.1</td>\n",
       "      <td>$0.2</td>\n",
       "      <td>3.1</td>\n",
       "      <td>3.6</td>\n",
       "      <td>$1,976</td>\n",
       "      <td>NaN</td>\n",
       "      <td>2.2</td>\n",
       "      <td>1.4</td>\n",
       "      <td>26.3</td>\n",
       "    </tr>\n",
       "    <tr>\n",
       "      <th>88</th>\n",
       "      <td>87</td>\n",
       "      <td>Korea, North</td>\n",
       "      <td>Asia-Pacific</td>\n",
       "      <td>180.0</td>\n",
       "      <td>43.0</td>\n",
       "      <td>5.9</td>\n",
       "      <td>31.6</td>\n",
       "      <td>5.0</td>\n",
       "      <td>24.4</td>\n",
       "      <td>0.0</td>\n",
       "      <td>...</td>\n",
       "      <td>100.0</td>\n",
       "      <td>25.4</td>\n",
       "      <td>$40.0 (2015 est.)</td>\n",
       "      <td>1.1</td>\n",
       "      <td>NaN</td>\n",
       "      <td>$1,700 (2015 est.)</td>\n",
       "      <td>4.8</td>\n",
       "      <td>NaN</td>\n",
       "      <td>63.4</td>\n",
       "      <td>NaN</td>\n",
       "    </tr>\n",
       "    <tr>\n",
       "      <th>90</th>\n",
       "      <td>185</td>\n",
       "      <td>Kosovo</td>\n",
       "      <td>Europe</td>\n",
       "      <td>51.0</td>\n",
       "      <td>26.0</td>\n",
       "      <td>67.0</td>\n",
       "      <td>57.2</td>\n",
       "      <td>53.5</td>\n",
       "      <td>44.7</td>\n",
       "      <td>92.5</td>\n",
       "      <td>...</td>\n",
       "      <td>27.2</td>\n",
       "      <td>1.9</td>\n",
       "      <td>$19.6</td>\n",
       "      <td>4.1</td>\n",
       "      <td>3.4</td>\n",
       "      <td>$10,515</td>\n",
       "      <td>NaN</td>\n",
       "      <td>1.5</td>\n",
       "      <td>3.6</td>\n",
       "      <td>20.9</td>\n",
       "    </tr>\n",
       "    <tr>\n",
       "      <th>98</th>\n",
       "      <td>96</td>\n",
       "      <td>Libya</td>\n",
       "      <td>Middle East and North Africa</td>\n",
       "      <td>NaN</td>\n",
       "      <td>NaN</td>\n",
       "      <td>NaN</td>\n",
       "      <td>7.6</td>\n",
       "      <td>24.4</td>\n",
       "      <td>15.8</td>\n",
       "      <td>NaN</td>\n",
       "      <td>...</td>\n",
       "      <td>139.2</td>\n",
       "      <td>6.4</td>\n",
       "      <td>$64.4</td>\n",
       "      <td>70.8</td>\n",
       "      <td>-7.9</td>\n",
       "      <td>$9,986</td>\n",
       "      <td>17.7</td>\n",
       "      <td>28.0</td>\n",
       "      <td>NaN</td>\n",
       "      <td>4.7</td>\n",
       "    </tr>\n",
       "    <tr>\n",
       "      <th>99</th>\n",
       "      <td>97</td>\n",
       "      <td>Liechtenstein</td>\n",
       "      <td>Europe</td>\n",
       "      <td>NaN</td>\n",
       "      <td>NaN</td>\n",
       "      <td>NaN</td>\n",
       "      <td>NaN</td>\n",
       "      <td>NaN</td>\n",
       "      <td>NaN</td>\n",
       "      <td>NaN</td>\n",
       "      <td>...</td>\n",
       "      <td>NaN</td>\n",
       "      <td>38,000 ppl.</td>\n",
       "      <td>$6.1 CHF (2014 )</td>\n",
       "      <td>NaN</td>\n",
       "      <td>NaN</td>\n",
       "      <td>$139,100 (2009 est.)</td>\n",
       "      <td>2.1 (2016)</td>\n",
       "      <td>NaN</td>\n",
       "      <td>NaN</td>\n",
       "      <td>NaN</td>\n",
       "    </tr>\n",
       "    <tr>\n",
       "      <th>113</th>\n",
       "      <td>111</td>\n",
       "      <td>Micronesia</td>\n",
       "      <td>Asia-Pacific</td>\n",
       "      <td>149.0</td>\n",
       "      <td>38.0</td>\n",
       "      <td>51.9</td>\n",
       "      <td>7.6</td>\n",
       "      <td>26.6</td>\n",
       "      <td>36.6</td>\n",
       "      <td>92.8</td>\n",
       "      <td>...</td>\n",
       "      <td>59.2</td>\n",
       "      <td>0.1</td>\n",
       "      <td>$0.3</td>\n",
       "      <td>2.0</td>\n",
       "      <td>0.7</td>\n",
       "      <td>$3,393</td>\n",
       "      <td>NaN</td>\n",
       "      <td>0.5</td>\n",
       "      <td>NaN</td>\n",
       "      <td>24.5</td>\n",
       "    </tr>\n",
       "    <tr>\n",
       "      <th>147</th>\n",
       "      <td>145</td>\n",
       "      <td>Seychelles</td>\n",
       "      <td>Sub-Saharan Africa</td>\n",
       "      <td>87.0</td>\n",
       "      <td>6.0</td>\n",
       "      <td>61.4</td>\n",
       "      <td>58.2</td>\n",
       "      <td>37.5</td>\n",
       "      <td>39.2</td>\n",
       "      <td>76.3</td>\n",
       "      <td>...</td>\n",
       "      <td>36.4</td>\n",
       "      <td>0.1</td>\n",
       "      <td>$2.7</td>\n",
       "      <td>4.2</td>\n",
       "      <td>4.9</td>\n",
       "      <td>$28,779</td>\n",
       "      <td>NaN</td>\n",
       "      <td>2.9</td>\n",
       "      <td>191.9</td>\n",
       "      <td>63.3</td>\n",
       "    </tr>\n",
       "    <tr>\n",
       "      <th>153</th>\n",
       "      <td>184</td>\n",
       "      <td>Somalia</td>\n",
       "      <td>Sub-Saharan Africa</td>\n",
       "      <td>NaN</td>\n",
       "      <td>NaN</td>\n",
       "      <td>NaN</td>\n",
       "      <td>33.7</td>\n",
       "      <td>26.6</td>\n",
       "      <td>7.9</td>\n",
       "      <td>NaN</td>\n",
       "      <td>...</td>\n",
       "      <td>NaN</td>\n",
       "      <td>14.3</td>\n",
       "      <td>$18.70</td>\n",
       "      <td>1.8</td>\n",
       "      <td>2.2</td>\n",
       "      <td>NaN</td>\n",
       "      <td>6.0</td>\n",
       "      <td>NaN</td>\n",
       "      <td>384.0</td>\n",
       "      <td>NaN</td>\n",
       "    </tr>\n",
       "    <tr>\n",
       "      <th>161</th>\n",
       "      <td>159</td>\n",
       "      <td>Syria</td>\n",
       "      <td>Middle East and North Africa</td>\n",
       "      <td>NaN</td>\n",
       "      <td>NaN</td>\n",
       "      <td>NaN</td>\n",
       "      <td>37.0</td>\n",
       "      <td>24.4</td>\n",
       "      <td>20.3</td>\n",
       "      <td>NaN</td>\n",
       "      <td>...</td>\n",
       "      <td>NaN</td>\n",
       "      <td>18.4</td>\n",
       "      <td>NaN</td>\n",
       "      <td>NaN</td>\n",
       "      <td>NaN</td>\n",
       "      <td>NaN</td>\n",
       "      <td>14.9</td>\n",
       "      <td>NaN</td>\n",
       "      <td>NaN</td>\n",
       "      <td>NaN</td>\n",
       "    </tr>\n",
       "    <tr>\n",
       "      <th>183</th>\n",
       "      <td>181</td>\n",
       "      <td>Yemen</td>\n",
       "      <td>Middle East and North Africa</td>\n",
       "      <td>NaN</td>\n",
       "      <td>NaN</td>\n",
       "      <td>NaN</td>\n",
       "      <td>19.6</td>\n",
       "      <td>22.2</td>\n",
       "      <td>20.3</td>\n",
       "      <td>NaN</td>\n",
       "      <td>...</td>\n",
       "      <td>NaN</td>\n",
       "      <td>30.0</td>\n",
       "      <td>$38.6</td>\n",
       "      <td>-13.8</td>\n",
       "      <td>-16.1</td>\n",
       "      <td>$1,287</td>\n",
       "      <td>14.0</td>\n",
       "      <td>4.9</td>\n",
       "      <td>-269.9</td>\n",
       "      <td>141.0</td>\n",
       "    </tr>\n",
       "  </tbody>\n",
       "</table>\n",
       "<p>13 rows × 32 columns</p>\n",
       "</div>"
      ],
      "text/plain": [
       "     CountryID   Country Name                        Region  World Rank  \\\n",
       "42          42           Cuba                      Americas       178.0   \n",
       "47          47       Dominica                      Americas        72.0   \n",
       "78          77           Iraq  Middle East and North Africa         NaN   \n",
       "87          86       Kiribati                  Asia-Pacific       168.0   \n",
       "88          87  Korea, North                   Asia-Pacific       180.0   \n",
       "90         185         Kosovo                        Europe        51.0   \n",
       "98          96          Libya  Middle East and North Africa         NaN   \n",
       "99          97  Liechtenstein                        Europe         NaN   \n",
       "113        111     Micronesia                  Asia-Pacific       149.0   \n",
       "147        145     Seychelles            Sub-Saharan Africa        87.0   \n",
       "153        184        Somalia            Sub-Saharan Africa         NaN   \n",
       "161        159          Syria  Middle East and North Africa         NaN   \n",
       "183        181          Yemen  Middle East and North Africa         NaN   \n",
       "\n",
       "     Region Rank  2019 Score  Property Rights  Judical Effectiveness  \\\n",
       "42          31.0        27.8             31.6                   10.0   \n",
       "47          14.0        63.6             49.2                   63.8   \n",
       "78           NaN         NaN             37.0                   12.3   \n",
       "87          41.0        47.3             44.1                   34.3   \n",
       "88          43.0         5.9             31.6                    5.0   \n",
       "90          26.0        67.0             57.2                   53.5   \n",
       "98           NaN         NaN              7.6                   24.4   \n",
       "99           NaN         NaN              NaN                    NaN   \n",
       "113         38.0        51.9              7.6                   26.6   \n",
       "147          6.0        61.4             58.2                   37.5   \n",
       "153          NaN         NaN             33.7                   26.6   \n",
       "161          NaN         NaN             37.0                   24.4   \n",
       "183          NaN         NaN             19.6                   22.2   \n",
       "\n",
       "     Government Integrity  Tax Burden  ...  Gov't Expenditure % of GDP   \\\n",
       "42                   37.7        48.8  ...                         64.2   \n",
       "47                   54.5        72.1  ...                         39.4   \n",
       "78                   20.3         NaN  ...                         39.7   \n",
       "87                   35.1        73.0  ...                        117.9   \n",
       "88                   24.4         0.0  ...                        100.0   \n",
       "90                   44.7        92.5  ...                         27.2   \n",
       "98                   15.8         NaN  ...                        139.2   \n",
       "99                    NaN         NaN  ...                          NaN   \n",
       "113                  36.6        92.8  ...                         59.2   \n",
       "147                  39.2        76.3  ...                         36.4   \n",
       "153                   7.9         NaN  ...                          NaN   \n",
       "161                  20.3         NaN  ...                          NaN   \n",
       "183                  20.3         NaN  ...                          NaN   \n",
       "\n",
       "     Population (Millions)  GDP (Billions, PPP)  GDP Growth Rate (%)  \\\n",
       "42                    11.5              $148.0                   0.9   \n",
       "47                     0.1                $0.8                  -4.2   \n",
       "78                    38.9              $658.8                  -0.8   \n",
       "87                     0.1                $0.2                   3.1   \n",
       "88                    25.4    $40.0 (2015 est.)                  1.1   \n",
       "90                     1.9               $19.6                   4.1   \n",
       "98                     6.4               $64.4                  70.8   \n",
       "99             38,000 ppl.     $6.1 CHF (2014 )                  NaN   \n",
       "113                    0.1                $0.3                   2.0   \n",
       "147                    0.1                $2.7                   4.2   \n",
       "153                   14.3              $18.70                   1.8   \n",
       "161                   18.4                  NaN                  NaN   \n",
       "183                   30.0               $38.6                 -13.8   \n",
       "\n",
       "     5 Year GDP Growth Rate (%)  GDP per Capita (PPP)  Unemployment (%)  \\\n",
       "42                          1.9               $12,920               2.6   \n",
       "47                          0.0               $11,102               NaN   \n",
       "78                          4.7               $16,954               8.2   \n",
       "87                          3.6                $1,976               NaN   \n",
       "88                          NaN    $1,700 (2015 est.)               4.8   \n",
       "90                          3.4               $10,515               NaN   \n",
       "98                         -7.9                $9,986              17.7   \n",
       "99                          NaN  $139,100 (2009 est.)        2.1 (2016)   \n",
       "113                         0.7                $3,393               NaN   \n",
       "147                         4.9               $28,779               NaN   \n",
       "153                         2.2                   NaN               6.0   \n",
       "161                         NaN                   NaN              14.9   \n",
       "183                       -16.1                $1,287              14.0   \n",
       "\n",
       "     Inflation (%)  FDI Inflow (Millions)  Public Debt (% of GDP)  \n",
       "42             5.5                    NaN                    47.7  \n",
       "47             0.6                   18.9                    87.6  \n",
       "78             0.1               -5,032.4                    58.0  \n",
       "87             2.2                    1.4                    26.3  \n",
       "88             NaN                   63.4                     NaN  \n",
       "90             1.5                    3.6                    20.9  \n",
       "98            28.0                    NaN                     4.7  \n",
       "99             NaN                    NaN                     NaN  \n",
       "113            0.5                    NaN                    24.5  \n",
       "147            2.9                  191.9                    63.3  \n",
       "153            NaN                  384.0                     NaN  \n",
       "161            NaN                    NaN                     NaN  \n",
       "183            4.9                 -269.9                   141.0  \n",
       "\n",
       "[13 rows x 32 columns]"
      ]
     },
     "execution_count": 153,
     "metadata": {},
     "output_type": "execute_result"
    }
   ],
   "source": [
    "new_df"
   ]
  },
  {
   "cell_type": "markdown",
   "metadata": {},
   "source": [
    "### It seems like we only have 13 countries. So, what we'll do is predict some correlations in the original dataset and attempt to prove them using these countries. Or, we can give counter-examples.\n",
    "\n",
    "\n",
    "### So, let us delete these rows from the original dataset"
   ]
  },
  {
   "cell_type": "code",
   "execution_count": 154,
   "metadata": {},
   "outputs": [
    {
     "data": {
      "text/plain": [
       "CountryID                      0\n",
       "Country Name                   0\n",
       "Region                         0\n",
       "World Rank                     0\n",
       "Region Rank                    0\n",
       "2019 Score                     0\n",
       "Property Rights                0\n",
       "Judical Effectiveness          0\n",
       "Government Integrity           0\n",
       "Tax Burden                     0\n",
       "Gov't Spending                 0\n",
       "Fiscal Health                  0\n",
       "Business Freedom               0\n",
       "Labor Freedom                  0\n",
       "Monetary Freedom               0\n",
       "Trade Freedom                  0\n",
       "Investment Freedom             0\n",
       "Financial Freedom              0\n",
       "Tariff Rate (%)                0\n",
       "Income Tax Rate (%)            0\n",
       "Corporate Tax Rate (%)         0\n",
       "Tax Burden % of GDP            0\n",
       "Gov't Expenditure % of GDP     0\n",
       "Population (Millions)          0\n",
       "GDP (Billions, PPP)            0\n",
       "GDP Growth Rate (%)            0\n",
       "5 Year GDP Growth Rate (%)     0\n",
       "GDP per Capita (PPP)           0\n",
       "Unemployment (%)               0\n",
       "Inflation (%)                  0\n",
       "FDI Inflow (Millions)          0\n",
       "Public Debt (% of GDP)         0\n",
       "dtype: int64"
      ]
     },
     "execution_count": 154,
     "metadata": {},
     "output_type": "execute_result"
    }
   ],
   "source": [
    "df = df.dropna(how='any',axis=0) \n",
    "df.isna().sum()"
   ]
  },
  {
   "cell_type": "code",
   "execution_count": 155,
   "metadata": {},
   "outputs": [
    {
     "data": {
      "text/html": [
       "<div>\n",
       "<style scoped>\n",
       "    .dataframe tbody tr th:only-of-type {\n",
       "        vertical-align: middle;\n",
       "    }\n",
       "\n",
       "    .dataframe tbody tr th {\n",
       "        vertical-align: top;\n",
       "    }\n",
       "\n",
       "    .dataframe thead th {\n",
       "        text-align: right;\n",
       "    }\n",
       "</style>\n",
       "<table border=\"1\" class=\"dataframe\">\n",
       "  <thead>\n",
       "    <tr style=\"text-align: right;\">\n",
       "      <th></th>\n",
       "      <th>CountryID</th>\n",
       "      <th>Country Name</th>\n",
       "      <th>Region</th>\n",
       "      <th>World Rank</th>\n",
       "      <th>Region Rank</th>\n",
       "      <th>2019 Score</th>\n",
       "      <th>Property Rights</th>\n",
       "      <th>Judical Effectiveness</th>\n",
       "      <th>Government Integrity</th>\n",
       "      <th>Tax Burden</th>\n",
       "      <th>...</th>\n",
       "      <th>Gov't Expenditure % of GDP</th>\n",
       "      <th>Population (Millions)</th>\n",
       "      <th>GDP (Billions, PPP)</th>\n",
       "      <th>GDP Growth Rate (%)</th>\n",
       "      <th>5 Year GDP Growth Rate (%)</th>\n",
       "      <th>GDP per Capita (PPP)</th>\n",
       "      <th>Unemployment (%)</th>\n",
       "      <th>Inflation (%)</th>\n",
       "      <th>FDI Inflow (Millions)</th>\n",
       "      <th>Public Debt (% of GDP)</th>\n",
       "    </tr>\n",
       "  </thead>\n",
       "  <tbody>\n",
       "    <tr>\n",
       "      <th>0</th>\n",
       "      <td>1</td>\n",
       "      <td>Afghanistan</td>\n",
       "      <td>Asia-Pacific</td>\n",
       "      <td>152.0</td>\n",
       "      <td>39.0</td>\n",
       "      <td>51.5</td>\n",
       "      <td>19.6</td>\n",
       "      <td>29.6</td>\n",
       "      <td>25.2</td>\n",
       "      <td>91.7</td>\n",
       "      <td>...</td>\n",
       "      <td>25.6</td>\n",
       "      <td>35.5</td>\n",
       "      <td>$69.6</td>\n",
       "      <td>2.5</td>\n",
       "      <td>2.9</td>\n",
       "      <td>$1,958</td>\n",
       "      <td>8.8</td>\n",
       "      <td>5.0</td>\n",
       "      <td>53.9</td>\n",
       "      <td>7.3</td>\n",
       "    </tr>\n",
       "    <tr>\n",
       "      <th>1</th>\n",
       "      <td>2</td>\n",
       "      <td>Albania</td>\n",
       "      <td>Europe</td>\n",
       "      <td>52.0</td>\n",
       "      <td>27.0</td>\n",
       "      <td>66.5</td>\n",
       "      <td>54.8</td>\n",
       "      <td>30.6</td>\n",
       "      <td>40.4</td>\n",
       "      <td>86.3</td>\n",
       "      <td>...</td>\n",
       "      <td>29.5</td>\n",
       "      <td>2.9</td>\n",
       "      <td>$36.0</td>\n",
       "      <td>3.9</td>\n",
       "      <td>2.5</td>\n",
       "      <td>$12,507</td>\n",
       "      <td>13.9</td>\n",
       "      <td>2.0</td>\n",
       "      <td>1,119.1</td>\n",
       "      <td>71.2</td>\n",
       "    </tr>\n",
       "    <tr>\n",
       "      <th>2</th>\n",
       "      <td>3</td>\n",
       "      <td>Algeria</td>\n",
       "      <td>Middle East and North Africa</td>\n",
       "      <td>171.0</td>\n",
       "      <td>14.0</td>\n",
       "      <td>46.2</td>\n",
       "      <td>31.6</td>\n",
       "      <td>36.2</td>\n",
       "      <td>28.9</td>\n",
       "      <td>76.4</td>\n",
       "      <td>...</td>\n",
       "      <td>41.4</td>\n",
       "      <td>41.5</td>\n",
       "      <td>$632.9</td>\n",
       "      <td>2.0</td>\n",
       "      <td>3.1</td>\n",
       "      <td>$15,237</td>\n",
       "      <td>10.0</td>\n",
       "      <td>5.6</td>\n",
       "      <td>1,203.0</td>\n",
       "      <td>25.8</td>\n",
       "    </tr>\n",
       "  </tbody>\n",
       "</table>\n",
       "<p>3 rows × 32 columns</p>\n",
       "</div>"
      ],
      "text/plain": [
       "   CountryID Country Name                        Region  World Rank  \\\n",
       "0          1  Afghanistan                  Asia-Pacific       152.0   \n",
       "1          2      Albania                        Europe        52.0   \n",
       "2          3      Algeria  Middle East and North Africa       171.0   \n",
       "\n",
       "   Region Rank  2019 Score  Property Rights  Judical Effectiveness  \\\n",
       "0         39.0        51.5             19.6                   29.6   \n",
       "1         27.0        66.5             54.8                   30.6   \n",
       "2         14.0        46.2             31.6                   36.2   \n",
       "\n",
       "   Government Integrity  Tax Burden  ...  Gov't Expenditure % of GDP   \\\n",
       "0                  25.2        91.7  ...                         25.6   \n",
       "1                  40.4        86.3  ...                         29.5   \n",
       "2                  28.9        76.4  ...                         41.4   \n",
       "\n",
       "   Population (Millions)  GDP (Billions, PPP)  GDP Growth Rate (%)  \\\n",
       "0                   35.5               $69.6                   2.5   \n",
       "1                    2.9               $36.0                   3.9   \n",
       "2                   41.5              $632.9                   2.0   \n",
       "\n",
       "   5 Year GDP Growth Rate (%)  GDP per Capita (PPP)  Unemployment (%)  \\\n",
       "0                         2.9                $1,958               8.8   \n",
       "1                         2.5               $12,507              13.9   \n",
       "2                         3.1               $15,237              10.0   \n",
       "\n",
       "   Inflation (%)  FDI Inflow (Millions)  Public Debt (% of GDP)  \n",
       "0            5.0                   53.9                     7.3  \n",
       "1            2.0                1,119.1                    71.2  \n",
       "2            5.6                1,203.0                    25.8  \n",
       "\n",
       "[3 rows x 32 columns]"
      ]
     },
     "execution_count": 155,
     "metadata": {},
     "output_type": "execute_result"
    }
   ],
   "source": [
    "df.head(3)\n"
   ]
  },
  {
   "cell_type": "code",
   "execution_count": 156,
   "metadata": {},
   "outputs": [
    {
     "data": {
      "text/plain": [
       "pandas.core.series.Series"
      ]
     },
     "execution_count": 156,
     "metadata": {},
     "output_type": "execute_result"
    }
   ],
   "source": [
    "type(df[\"GDP (Billions, PPP)\"])"
   ]
  },
  {
   "cell_type": "markdown",
   "metadata": {},
   "source": [
    "### The GDP figures are messy. Let's clean them up!"
   ]
  },
  {
   "cell_type": "code",
   "execution_count": 157,
   "metadata": {},
   "outputs": [
    {
     "data": {
      "text/html": [
       "<div>\n",
       "<style scoped>\n",
       "    .dataframe tbody tr th:only-of-type {\n",
       "        vertical-align: middle;\n",
       "    }\n",
       "\n",
       "    .dataframe tbody tr th {\n",
       "        vertical-align: top;\n",
       "    }\n",
       "\n",
       "    .dataframe thead th {\n",
       "        text-align: right;\n",
       "    }\n",
       "</style>\n",
       "<table border=\"1\" class=\"dataframe\">\n",
       "  <thead>\n",
       "    <tr style=\"text-align: right;\">\n",
       "      <th></th>\n",
       "      <th>CountryID</th>\n",
       "      <th>Country Name</th>\n",
       "      <th>Region</th>\n",
       "      <th>World Rank</th>\n",
       "      <th>Region Rank</th>\n",
       "      <th>2019 Score</th>\n",
       "      <th>Property Rights</th>\n",
       "      <th>Judical Effectiveness</th>\n",
       "      <th>Government Integrity</th>\n",
       "      <th>Tax Burden</th>\n",
       "      <th>...</th>\n",
       "      <th>Gov't Expenditure % of GDP</th>\n",
       "      <th>Population (Millions)</th>\n",
       "      <th>GDP (Billions, PPP)</th>\n",
       "      <th>GDP Growth Rate (%)</th>\n",
       "      <th>5 Year GDP Growth Rate (%)</th>\n",
       "      <th>GDP per Capita (PPP)</th>\n",
       "      <th>Unemployment (%)</th>\n",
       "      <th>Inflation (%)</th>\n",
       "      <th>FDI Inflow (Millions)</th>\n",
       "      <th>Public Debt (% of GDP)</th>\n",
       "    </tr>\n",
       "  </thead>\n",
       "  <tbody>\n",
       "    <tr>\n",
       "      <th>0</th>\n",
       "      <td>1</td>\n",
       "      <td>Afghanistan</td>\n",
       "      <td>Asia-Pacific</td>\n",
       "      <td>152.0</td>\n",
       "      <td>39.0</td>\n",
       "      <td>51.5</td>\n",
       "      <td>19.6</td>\n",
       "      <td>29.6</td>\n",
       "      <td>25.2</td>\n",
       "      <td>91.7</td>\n",
       "      <td>...</td>\n",
       "      <td>25.6</td>\n",
       "      <td>35.5</td>\n",
       "      <td>69.6</td>\n",
       "      <td>2.5</td>\n",
       "      <td>2.9</td>\n",
       "      <td>1958</td>\n",
       "      <td>8.8</td>\n",
       "      <td>5.0</td>\n",
       "      <td>53.9</td>\n",
       "      <td>7.3</td>\n",
       "    </tr>\n",
       "    <tr>\n",
       "      <th>1</th>\n",
       "      <td>2</td>\n",
       "      <td>Albania</td>\n",
       "      <td>Europe</td>\n",
       "      <td>52.0</td>\n",
       "      <td>27.0</td>\n",
       "      <td>66.5</td>\n",
       "      <td>54.8</td>\n",
       "      <td>30.6</td>\n",
       "      <td>40.4</td>\n",
       "      <td>86.3</td>\n",
       "      <td>...</td>\n",
       "      <td>29.5</td>\n",
       "      <td>2.9</td>\n",
       "      <td>36.0</td>\n",
       "      <td>3.9</td>\n",
       "      <td>2.5</td>\n",
       "      <td>12507</td>\n",
       "      <td>13.9</td>\n",
       "      <td>2.0</td>\n",
       "      <td>1119.1</td>\n",
       "      <td>71.2</td>\n",
       "    </tr>\n",
       "  </tbody>\n",
       "</table>\n",
       "<p>2 rows × 32 columns</p>\n",
       "</div>"
      ],
      "text/plain": [
       "   CountryID Country Name        Region  World Rank  Region Rank  2019 Score  \\\n",
       "0          1  Afghanistan  Asia-Pacific       152.0         39.0        51.5   \n",
       "1          2      Albania        Europe        52.0         27.0        66.5   \n",
       "\n",
       "   Property Rights  Judical Effectiveness  Government Integrity  Tax Burden  \\\n",
       "0             19.6                   29.6                  25.2        91.7   \n",
       "1             54.8                   30.6                  40.4        86.3   \n",
       "\n",
       "   ...  Gov't Expenditure % of GDP   Population (Millions)  \\\n",
       "0  ...                         25.6                   35.5   \n",
       "1  ...                         29.5                    2.9   \n",
       "\n",
       "   GDP (Billions, PPP)  GDP Growth Rate (%)  5 Year GDP Growth Rate (%)  \\\n",
       "0                69.6                   2.5                         2.9   \n",
       "1                36.0                   3.9                         2.5   \n",
       "\n",
       "   GDP per Capita (PPP)  Unemployment (%)  Inflation (%)  \\\n",
       "0                  1958               8.8            5.0   \n",
       "1                 12507              13.9            2.0   \n",
       "\n",
       "   FDI Inflow (Millions)  Public Debt (% of GDP)  \n",
       "0                   53.9                     7.3  \n",
       "1                 1119.1                    71.2  \n",
       "\n",
       "[2 rows x 32 columns]"
      ]
     },
     "execution_count": 157,
     "metadata": {},
     "output_type": "execute_result"
    }
   ],
   "source": [
    "df['GDP (Billions, PPP)'] = df['GDP (Billions, PPP)'].str.replace('$','')\n",
    "df['GDP per Capita (PPP)'] = df['GDP per Capita (PPP)'].str.replace('$','')\n",
    "df['GDP (Billions, PPP)'] = df['GDP (Billions, PPP)'].str.replace(',','')\n",
    "df['GDP per Capita (PPP)'] = df['GDP per Capita (PPP)'].str.replace(',','')\n",
    "df['FDI Inflow (Millions)'] = df['FDI Inflow (Millions)'].str.replace(',','')\n",
    "\n",
    "df.head(2)"
   ]
  },
  {
   "cell_type": "code",
   "execution_count": 158,
   "metadata": {},
   "outputs": [
    {
     "data": {
      "text/plain": [
       "0       1958.0\n",
       "1      12507.0\n",
       "2      15237.0\n",
       "3       6753.0\n",
       "4      20876.0\n",
       "5       9456.0\n",
       "6      50334.0\n",
       "7      49869.0\n",
       "8      17492.0\n",
       "9      31139.0\n",
       "10     48505.0\n",
       "11      4211.0\n",
       "12     18664.0\n",
       "13     18931.0\n",
       "14     46553.0\n",
       "15      8324.0\n",
       "16      2277.0\n",
       "17      8744.0\n",
       "18      7547.0\n",
       "19     12724.0\n",
       "20     17828.0\n",
       "21     15603.0\n",
       "22     78196.0\n",
       "23     21687.0\n",
       "24      1889.0\n",
       "25      6244.0\n",
       "26       735.0\n",
       "27      4012.0\n",
       "28      3660.0\n",
       "29     48265.0\n",
       "        ...   \n",
       "154    13545.0\n",
       "155    38286.0\n",
       "156    12811.0\n",
       "157     4586.0\n",
       "158    14606.0\n",
       "159    51475.0\n",
       "160    61422.0\n",
       "162    50294.0\n",
       "163     3212.0\n",
       "164     3240.0\n",
       "165    17856.0\n",
       "166     5444.0\n",
       "167     1659.0\n",
       "168     5608.0\n",
       "169    31367.0\n",
       "170    11755.0\n",
       "171    26893.0\n",
       "172    18126.0\n",
       "173     2354.0\n",
       "174     8713.0\n",
       "175    67741.0\n",
       "176    44118.0\n",
       "177    59501.0\n",
       "178    22371.0\n",
       "179     6929.0\n",
       "180     2739.0\n",
       "181    12114.0\n",
       "182     6913.0\n",
       "184     3996.0\n",
       "185     2283.0\n",
       "Name: GDP per Capita (PPP), Length: 173, dtype: float64"
      ]
     },
     "execution_count": 158,
     "metadata": {},
     "output_type": "execute_result"
    }
   ],
   "source": [
    "#The extraneous info.such as '1700 (2015 est.)' will also be removed\n",
    "df['GDP per Capita (PPP)'] = df['GDP per Capita (PPP)'].str.split(' ').str[0]\n",
    "df['GDP per Capita (PPP)'] = df['GDP per Capita (PPP)'].astype(float)\n",
    "df['GDP per Capita (PPP)']"
   ]
  },
  {
   "cell_type": "markdown",
   "metadata": {},
   "source": [
    "### How does a country compare with the global averages?"
   ]
  },
  {
   "cell_type": "code",
   "execution_count": 159,
   "metadata": {},
   "outputs": [],
   "source": [
    "def compare_with_others(test):\n",
    "    print(test + ' '*50 + 'World')\n",
    "    test_df = df.loc[df['Country Name']==test]\n",
    "    for i in test_df:\n",
    "        try:\n",
    "            world_average = df[i].mean()\n",
    "        except:\n",
    "            world_average = 'Not Applicable'\n",
    "        print(i + ' '*10 + str(test_df.iloc[0][i]) + ' '*30 + str(world_average))\n",
    "        \n"
   ]
  },
  {
   "cell_type": "code",
   "execution_count": 160,
   "metadata": {},
   "outputs": [
    {
     "name": "stdout",
     "output_type": "stream",
     "text": [
      "Algeria                                                  World\n",
      "CountryID          3                              91.8728323699422\n",
      "Country Name          Algeria                              Not Applicable\n",
      "Region          Middle East and North Africa                              Not Applicable\n",
      "World Rank          171.0                              89.04624277456648\n",
      "Region Rank          14.0                              20.21965317919075\n",
      "2019 Score          46.2                              61.34913294797688\n",
      "Property Rights          31.6                              53.56184971098266\n",
      "Judical Effectiveness          36.2                              46.045086705202316\n",
      "Government Integrity          28.9                              42.28439306358381\n",
      "Tax Burden          76.4                              77.70404624277457\n",
      "Gov't Spending          48.7                              66.01907514450868\n",
      "Fiscal Health          18.7                              66.81156069364162\n",
      "Business Freedom          61.6                              64.72254335260115\n",
      "Labor Freedom          49.9                              60.05144508670521\n",
      "Monetary Freedom          74.9                              75.68265895953756\n",
      "Trade Freedom          67.4                              75.02254335260115\n",
      "Investment Freedom           30.0                              58.58381502890173\n",
      "Financial Freedom          30.0                              49.653179190751445\n",
      "Tariff Rate (%)          8.8                              5.623699421965318\n",
      "Income Tax Rate (%)          35.0                              28.604046242774565\n",
      "Corporate Tax Rate (%)          23.0                              23.91676300578035\n",
      "Tax Burden % of GDP          24.5                              22.04566473988439\n",
      "Gov't Expenditure % of GDP           41.4                              32.02312138728324\n",
      "Population (Millions)          41.5                              Not Applicable\n",
      "GDP (Billions, PPP)          632.9                               Not Applicable\n",
      "GDP Growth Rate (%)          2.0                              3.2907514450867055\n",
      "5 Year GDP Growth Rate (%)          3.1                              3.171676300578035\n",
      "GDP per Capita (PPP)          15237.0                              21277.0\n",
      "Unemployment (%)          10.0                              Not Applicable\n",
      "Inflation (%)          5.6                              10.86994219653179\n",
      "FDI Inflow (Millions)          1203.0                              Not Applicable\n",
      "Public Debt (% of GDP)          25.8                              56.66705202312137\n"
     ]
    }
   ],
   "source": [
    "compare_with_others('Algeria')"
   ]
  },
  {
   "cell_type": "code",
   "execution_count": 161,
   "metadata": {},
   "outputs": [
    {
     "name": "stdout",
     "output_type": "stream",
     "text": [
      "1                     Albania\n",
      "5                     Armenia\n",
      "7                     Austria\n",
      "13                    Belarus\n",
      "14                    Belgium\n",
      "19     Bosnia and Herzegovina\n",
      "23                   Bulgaria\n",
      "41                    Croatia\n",
      "43                     Cyprus\n",
      "44             Czech Republic\n",
      "45                    Denmark\n",
      "54                    Estonia\n",
      "58                    Finland\n",
      "59                     France\n",
      "62                    Georgia\n",
      "63                    Germany\n",
      "65                     Greece\n",
      "73                    Hungary\n",
      "74                    Iceland\n",
      "79                    Ireland\n",
      "81                      Italy\n",
      "94                     Latvia\n",
      "100                 Lithuania\n",
      "101                Luxembourg\n",
      "103                 Macedonia\n",
      "109                     Malta\n",
      "114                   Moldova\n",
      "116                Montenegro\n",
      "121               Netherlands\n",
      "126                    Norway\n",
      "134                    Poland\n",
      "135                  Portugal\n",
      "137                   Romania\n",
      "138                    Russia\n",
      "146                    Serbia\n",
      "150                  Slovakia\n",
      "151                  Slovenia\n",
      "155                     Spain\n",
      "159                    Sweden\n",
      "160               Switzerland\n",
      "171                    Turkey\n",
      "174                   Ukraine\n",
      "176            United Kingdom\n",
      "Name: Country Name, dtype: object\n"
     ]
    }
   ],
   "source": [
    "# Let's check out a European Country\n",
    "\n",
    "european_countries = df[df['Region']=='Europe']\n",
    "print(european_countries['Country Name'])"
   ]
  },
  {
   "cell_type": "code",
   "execution_count": 162,
   "metadata": {},
   "outputs": [
    {
     "name": "stdout",
     "output_type": "stream",
     "text": [
      "Switzerland                                                  World\n",
      "CountryID          158                              91.8728323699422\n",
      "Country Name          Switzerland                              Not Applicable\n",
      "Region          Europe                              Not Applicable\n",
      "World Rank          4.0                              89.04624277456648\n",
      "Region Rank          1.0                              20.21965317919075\n",
      "2019 Score          81.9                              61.34913294797688\n",
      "Property Rights          85.3                              53.56184971098266\n",
      "Judical Effectiveness          82.0                              46.045086705202316\n",
      "Government Integrity          88.0                              42.28439306358381\n",
      "Tax Burden          70.5                              77.70404624277457\n",
      "Gov't Spending          64.8                              66.01907514450868\n",
      "Fiscal Health          96.3                              66.81156069364162\n",
      "Business Freedom          75.4                              64.72254335260115\n",
      "Labor Freedom          72.5                              60.05144508670521\n",
      "Monetary Freedom          85.2                              75.68265895953756\n",
      "Trade Freedom          87.4                              75.02254335260115\n",
      "Investment Freedom           85.0                              58.58381502890173\n",
      "Financial Freedom          90.0                              49.653179190751445\n",
      "Tariff Rate (%)          1.3                              5.623699421965318\n",
      "Income Tax Rate (%)          40.0                              28.604046242774565\n",
      "Corporate Tax Rate (%)          24.0                              23.91676300578035\n",
      "Tax Burden % of GDP          27.8                              22.04566473988439\n",
      "Gov't Expenditure % of GDP           34.3                              32.02312138728324\n",
      "Population (Millions)          8.4                              Not Applicable\n",
      "GDP (Billions, PPP)          517.2                               Not Applicable\n",
      "GDP Growth Rate (%)          1.1                              3.2907514450867055\n",
      "5 Year GDP Growth Rate (%)          1.6                              3.171676300578035\n",
      "GDP per Capita (PPP)          61422.0                              21277.0\n",
      "Unemployment (%)          4.8                              Not Applicable\n",
      "Inflation (%)          0.5                              10.86994219653179\n",
      "FDI Inflow (Millions)          40986.1                              Not Applicable\n",
      "Public Debt (% of GDP)          42.8                              56.66705202312137\n"
     ]
    }
   ],
   "source": [
    "compare_with_others('Switzerland')"
   ]
  },
  {
   "cell_type": "code",
   "execution_count": 163,
   "metadata": {},
   "outputs": [
    {
     "data": {
      "text/plain": [
       "CountryID                      0\n",
       "Country Name                   0\n",
       "Region                         0\n",
       "World Rank                     0\n",
       "Region Rank                    0\n",
       "2019 Score                     0\n",
       "Property Rights                0\n",
       "Judical Effectiveness          0\n",
       "Government Integrity           0\n",
       "Tax Burden                     0\n",
       "Gov't Spending                 0\n",
       "Fiscal Health                  0\n",
       "Business Freedom               0\n",
       "Labor Freedom                  0\n",
       "Monetary Freedom               0\n",
       "Trade Freedom                  0\n",
       "Investment Freedom             0\n",
       "Financial Freedom              0\n",
       "Tariff Rate (%)                0\n",
       "Income Tax Rate (%)            0\n",
       "Corporate Tax Rate (%)         0\n",
       "Tax Burden % of GDP            0\n",
       "Gov't Expenditure % of GDP     0\n",
       "Population (Millions)          0\n",
       "GDP (Billions, PPP)            0\n",
       "GDP Growth Rate (%)            0\n",
       "5 Year GDP Growth Rate (%)     0\n",
       "GDP per Capita (PPP)           0\n",
       "Unemployment (%)               0\n",
       "Inflation (%)                  0\n",
       "FDI Inflow (Millions)          0\n",
       "Public Debt (% of GDP)         0\n",
       "dtype: int64"
      ]
     },
     "execution_count": 163,
     "metadata": {},
     "output_type": "execute_result"
    }
   ],
   "source": [
    "df.isna().sum()"
   ]
  },
  {
   "cell_type": "code",
   "execution_count": 164,
   "metadata": {},
   "outputs": [],
   "source": [
    "df[[\"Population (Millions)\", \"GDP (Billions, PPP)\",\"Unemployment (%)\",\"FDI Inflow (Millions)\"]] = df[[\"Population (Millions)\", \"GDP (Billions, PPP)\",\"Unemployment (%)\",\"FDI Inflow (Millions)\"]].apply(pd.to_numeric)"
   ]
  },
  {
   "cell_type": "code",
   "execution_count": 165,
   "metadata": {},
   "outputs": [
    {
     "data": {
      "text/plain": [
       "CountryID                        int64\n",
       "Country Name                    object\n",
       "Region                          object\n",
       "World Rank                     float64\n",
       "Region Rank                    float64\n",
       "2019 Score                     float64\n",
       "Property Rights                float64\n",
       "Judical Effectiveness          float64\n",
       "Government Integrity           float64\n",
       "Tax Burden                     float64\n",
       "Gov't Spending                 float64\n",
       "Fiscal Health                  float64\n",
       "Business Freedom               float64\n",
       "Labor Freedom                  float64\n",
       "Monetary Freedom               float64\n",
       "Trade Freedom                  float64\n",
       "Investment Freedom             float64\n",
       "Financial Freedom              float64\n",
       "Tariff Rate (%)                float64\n",
       "Income Tax Rate (%)            float64\n",
       "Corporate Tax Rate (%)         float64\n",
       "Tax Burden % of GDP            float64\n",
       "Gov't Expenditure % of GDP     float64\n",
       "Population (Millions)          float64\n",
       "GDP (Billions, PPP)            float64\n",
       "GDP Growth Rate (%)            float64\n",
       "5 Year GDP Growth Rate (%)     float64\n",
       "GDP per Capita (PPP)           float64\n",
       "Unemployment (%)               float64\n",
       "Inflation (%)                  float64\n",
       "FDI Inflow (Millions)          float64\n",
       "Public Debt (% of GDP)         float64\n",
       "dtype: object"
      ]
     },
     "execution_count": 165,
     "metadata": {},
     "output_type": "execute_result"
    }
   ],
   "source": [
    "df.dtypes\n"
   ]
  },
  {
   "cell_type": "markdown",
   "metadata": {},
   "source": [
    "### Winners and Losers"
   ]
  },
  {
   "cell_type": "code",
   "execution_count": 166,
   "metadata": {},
   "outputs": [],
   "source": [
    "countryA = df[df['World Rank'] == np.max(df['World Rank'])]"
   ]
  },
  {
   "cell_type": "code",
   "execution_count": 167,
   "metadata": {},
   "outputs": [
    {
     "name": "stdout",
     "output_type": "stream",
     "text": [
      "181    Venezuela\n",
      "Name: Country Name, dtype: object\n"
     ]
    }
   ],
   "source": [
    "print(countryA['Country Name'])"
   ]
  },
  {
   "cell_type": "code",
   "execution_count": 168,
   "metadata": {},
   "outputs": [
    {
     "name": "stdout",
     "output_type": "stream",
     "text": [
      "72    Hong Kong\n",
      "Name: Country Name, dtype: object\n"
     ]
    }
   ],
   "source": [
    "countryB = df[df['World Rank'] == np.min(df['World Rank'])]\n",
    "print(countryB['Country Name'])"
   ]
  },
  {
   "cell_type": "code",
   "execution_count": 169,
   "metadata": {},
   "outputs": [
    {
     "name": "stdout",
     "output_type": "stream",
     "text": [
      "48    Dominican Republic\n",
      "Name: Country Name, dtype: object\n"
     ]
    }
   ],
   "source": [
    "countryC = df[df['World Rank'] == int(np.mean(df['World Rank']))]\n",
    "print(countryC['Country Name'])"
   ]
  },
  {
   "cell_type": "markdown",
   "metadata": {},
   "source": [
    "### Claims "
   ]
  },
  {
   "cell_type": "markdown",
   "metadata": {},
   "source": [
    "* GDP per capita depends directly on strength of institutions"
   ]
  },
  {
   "cell_type": "code",
   "execution_count": 170,
   "metadata": {},
   "outputs": [
    {
     "name": "stdout",
     "output_type": "stream",
     "text": [
      "(181    12114.0\n",
      "Name: GDP per Capita (PPP), dtype: float64, 181    7.6\n",
      "Name: Property Rights, dtype: float64, 181    13.1\n",
      "Name: Judical Effectiveness, dtype: float64, 181    7.9\n",
      "Name: Government Integrity, dtype: float64)\n"
     ]
    }
   ],
   "source": [
    "# Induction Step\n",
    "print(countryA['GDP per Capita (PPP)'],countryA['Property Rights'],countryA['Judical Effectiveness'],countryA['Government Integrity'])"
   ]
  },
  {
   "cell_type": "code",
   "execution_count": 171,
   "metadata": {},
   "outputs": [
    {
     "name": "stdout",
     "output_type": "stream",
     "text": [
      "(72    61393.0\n",
      "Name: GDP per Capita (PPP), dtype: float64, 72    93.3\n",
      "Name: Property Rights, dtype: float64, 72    75.3\n",
      "Name: Judical Effectiveness, dtype: float64, 72    83.8\n",
      "Name: Government Integrity, dtype: float64)\n"
     ]
    }
   ],
   "source": [
    "print(countryB['GDP per Capita (PPP)'],countryB['Property Rights'],countryB['Judical Effectiveness'],countryB['Government Integrity'])"
   ]
  },
  {
   "cell_type": "code",
   "execution_count": 172,
   "metadata": {},
   "outputs": [
    {
     "name": "stdout",
     "output_type": "stream",
     "text": [
      "('Property Rights', 0.693)\n",
      "('Judical Effectiveness', 0.65)\n",
      "('Government Integrity', 0.708)\n"
     ]
    }
   ],
   "source": [
    "# using the corr() function and rounding to 3 places\n",
    "measures = ['Property Rights','Judical Effectiveness','Government Integrity']\n",
    "for col in measures:\n",
    "    print(col,round(df[col].corr(df[\"GDP per Capita (PPP)\"]),3))"
   ]
  },
  {
   "cell_type": "markdown",
   "metadata": {},
   "source": [
    "#### We see a clear positive correlation. Hence our claim is proved."
   ]
  },
  {
   "cell_type": "markdown",
   "metadata": {},
   "source": [
    "* If there is more economic freedom, there is higher GDP per Capita"
   ]
  },
  {
   "cell_type": "code",
   "execution_count": 173,
   "metadata": {},
   "outputs": [
    {
     "name": "stdout",
     "output_type": "stream",
     "text": [
      "('Business Freedom', 0.549)\n",
      "('Labor Freedom', 0.264)\n",
      "('Monetary Freedom', 0.317)\n",
      "('Trade Freedom', 0.562)\n",
      "('Financial Freedom', 0.592)\n"
     ]
    }
   ],
   "source": [
    "freedom=[\n",
    "'Business Freedom',              \n",
    "'Labor Freedom',                 \n",
    "'Monetary Freedom',               \n",
    "'Trade Freedom',                  \n",
    "'Financial Freedom'\n",
    "]\n",
    "for col in freedom:\n",
    "    print(col,round(df[col].corr(df[\"GDP per Capita (PPP)\"]),3))"
   ]
  },
  {
   "cell_type": "markdown",
   "metadata": {},
   "source": [
    "#### We see a positive correlation, however 'Labor Freedom' seems to have a low correlation"
   ]
  },
  {
   "cell_type": "code",
   "execution_count": 174,
   "metadata": {},
   "outputs": [
    {
     "name": "stdout",
     "output_type": "stream",
     "text": [
      "Let us now look for all attributes\n"
     ]
    }
   ],
   "source": [
    "print('Let us now look for all attributes')"
   ]
  },
  {
   "cell_type": "code",
   "execution_count": 175,
   "metadata": {},
   "outputs": [
    {
     "name": "stdout",
     "output_type": "stream",
     "text": [
      "Property Rights               0.693\n",
      "Judical Effectiveness         0.65\n",
      "Government Integrity          0.708\n",
      "Tax Burden                    -0.093\n",
      "Gov't Spending                -0.349\n",
      "Fiscal Health                 0.242\n",
      "Business Freedom              0.549\n",
      "Labor Freedom                 0.264\n",
      "Monetary Freedom              0.317\n",
      "Trade Freedom                 0.562\n",
      "Investment Freedom            0.477\n",
      "Financial Freedom             0.592\n"
     ]
    }
   ],
   "source": [
    "all_measures = [\"Property Rights\",\"Judical Effectiveness\",\"Government Integrity\",\"Tax Burden\",\n",
    "  \"Gov't Spending\",\"Fiscal Health\",\"Business Freedom\",\"Labor Freedom\",\"Monetary Freedom\",\n",
    "  \"Trade Freedom\",\"Investment Freedom \",\"Financial Freedom\"]\n",
    "for col in all_measures:\n",
    "    print(col+\" \"*(30-len(col))+str(round(df[col].corr(df[\"GDP per Capita (PPP)\"]),3)))"
   ]
  },
  {
   "cell_type": "markdown",
   "metadata": {},
   "source": [
    "### \"Mankind invented a system to cope with the fact that we are so intrinsically lousy at manipulating numbers. It's called the graph.\" ~ Charlie Munger"
   ]
  },
  {
   "cell_type": "code",
   "execution_count": 176,
   "metadata": {},
   "outputs": [
    {
     "data": {
      "image/png": "[encoded data removed]",
      "text/plain": [
       "<Figure size 432x288 with 1 Axes>"
      ]
     },
     "metadata": {
      "needs_background": "light"
     },
     "output_type": "display_data"
    }
   ],
   "source": [
    "# Let us plot GDP per capita v/s Government Integrity\n",
    "\n",
    "plt.plot(df['Trade Freedom'],'g*', df['Government Integrity'], 'ro')\n",
    "plt.show()"
   ]
  },
  {
   "cell_type": "code",
   "execution_count": 177,
   "metadata": {},
   "outputs": [
    {
     "data": {
      "image/png": "[encoded data removed]",
      "text/plain": [
       "<Figure size 432x288 with 1 Axes>"
      ]
     },
     "metadata": {
      "needs_background": "light"
     },
     "output_type": "display_data"
    }
   ],
   "source": [
    "# Let us plot GDP per capita v/s Government Integrity\n",
    "\n",
    "plt.plot(df['2019 Score'],'g*', df['Tax Burden'], 'ro')\n",
    "plt.show()"
   ]
  },
  {
   "cell_type": "code",
   "execution_count": 178,
   "metadata": {},
   "outputs": [
    {
     "name": "stdout",
     "output_type": "stream",
     "text": [
      "We observe the difference between +ve and -ve associations\n"
     ]
    }
   ],
   "source": [
    "print(\"We observe the difference between +ve and -ve associations\")"
   ]
  },
  {
   "cell_type": "markdown",
   "metadata": {},
   "source": [
    "### Let us not try an _experiment_\n",
    "### Let's try fitting a model on some parameters and try to predict the score of the country"
   ]
  },
  {
   "cell_type": "code",
   "execution_count": 179,
   "metadata": {},
   "outputs": [
    {
     "name": "stdout",
     "output_type": "stream",
     "text": [
      "48    61.0\n",
      "Name: 2019 Score, dtype: float64\n"
     ]
    }
   ],
   "source": [
    "print(countryC['2019 Score'])"
   ]
  },
  {
   "cell_type": "code",
   "execution_count": 180,
   "metadata": {},
   "outputs": [],
   "source": [
    "avg = (df['2019 Score'].mean())"
   ]
  },
  {
   "cell_type": "code",
   "execution_count": 181,
   "metadata": {},
   "outputs": [],
   "source": [
    "avg = (df['2019 Score'].mean())\n",
    "def getScore(score):\n",
    "    if score<=avg:\n",
    "        return 0\n",
    "    else:\n",
    "        return 1\n",
    "    \n"
   ]
  },
  {
   "cell_type": "code",
   "execution_count": 182,
   "metadata": {},
   "outputs": [],
   "source": [
    "l=[]\n",
    "for i in df['2019 Score']:\n",
    "    l.append(getScore(i))\n"
   ]
  },
  {
   "cell_type": "code",
   "execution_count": 183,
   "metadata": {},
   "outputs": [
    {
     "data": {
      "text/plain": [
       "array([0, 1, 0, 0, 0, 1, 1, 1, 1, 1, 1, 0, 1, 0, 1, 0, 0, 1, 0, 1, 1, 0,\n",
       "       1, 1, 0, 0, 0, 0, 0, 1, 1, 0, 0, 1, 0, 1, 0, 0, 0, 1, 1, 1, 1, 1,\n",
       "       1, 0, 0, 0, 0, 1, 0, 0, 1, 0, 0, 1, 1, 1, 0, 0, 1, 1, 0, 0, 1, 0,\n",
       "       0, 0, 0, 0, 1, 1, 1, 0, 1, 0, 1, 1, 1, 1, 1, 1, 1, 0, 1, 0, 1, 0,\n",
       "       1, 0, 0, 0, 1, 1, 1, 1, 0, 0, 1, 0, 0, 1, 0, 1, 1, 0, 0, 0, 1, 0,\n",
       "       0, 0, 1, 1, 0, 0, 0, 1, 0, 0, 1, 0, 1, 1, 1, 1, 1, 1, 1, 0, 1, 1,\n",
       "       1, 1, 0, 0, 0, 1, 0, 1, 1, 1, 0, 0, 1, 0, 0, 0, 1, 1, 1, 0, 0, 1,\n",
       "       0, 0, 0, 0, 0, 1, 0, 0, 0, 1, 1, 1, 1, 0, 0, 0, 0, 0, 0])"
      ]
     },
     "execution_count": 183,
     "metadata": {},
     "output_type": "execute_result"
    }
   ],
   "source": [
    "final_scores = np.array(l)\n",
    "final_scores"
   ]
  },
  {
   "cell_type": "markdown",
   "metadata": {},
   "source": [
    "### Let us select _three_ parameters to try and predict whether a country is above or below average\n",
    "\n",
    "#### Let us look at the correlations we will find to choose the parameters"
   ]
  },
  {
   "cell_type": "code",
   "execution_count": 184,
   "metadata": {},
   "outputs": [
    {
     "name": "stdout",
     "output_type": "stream",
     "text": [
      "Property Rights               0.877\n",
      "Judical Effectiveness         0.806\n",
      "Government Integrity          0.818\n",
      "Tax Burden                    -0.075\n",
      "Gov't Spending                -0.141\n",
      "Fiscal Health                 0.559\n",
      "Business Freedom              0.78\n",
      "Labor Freedom                 0.513\n",
      "Monetary Freedom              0.589\n",
      "Trade Freedom                 0.718\n",
      "Investment Freedom            0.735\n",
      "Financial Freedom             0.794\n"
     ]
    }
   ],
   "source": [
    "all_measures = [\"Property Rights\",\"Judical Effectiveness\",\"Government Integrity\",\"Tax Burden\",\n",
    "  \"Gov't Spending\",\"Fiscal Health\",\"Business Freedom\",\"Labor Freedom\",\"Monetary Freedom\",\n",
    "  \"Trade Freedom\",\"Investment Freedom \",\"Financial Freedom\"]\n",
    "for col in all_measures:\n",
    "    print(col+\" \"*(30-len(col))+str(round(df[col].corr(df[\"2019 Score\"]),3)))"
   ]
  },
  {
   "cell_type": "code",
   "execution_count": 185,
   "metadata": {},
   "outputs": [
    {
     "name": "stdout",
     "output_type": "stream",
     "text": [
      "We will choose PROPERTY RIGHTS, JUDICIAL EFFECTIVENESS AND GOVERNMENT INTEGRITY\n"
     ]
    }
   ],
   "source": [
    "print(\"We will choose PROPERTY RIGHTS, JUDICIAL EFFECTIVENESS AND GOVERNMENT INTEGRITY\")"
   ]
  },
  {
   "cell_type": "code",
   "execution_count": 186,
   "metadata": {},
   "outputs": [],
   "source": [
    "to_be_tested = df[['Property Rights','Judical Effectiveness','Government Integrity']]"
   ]
  },
  {
   "cell_type": "code",
   "execution_count": 187,
   "metadata": {},
   "outputs": [
    {
     "data": {
      "text/html": [
       "<div>\n",
       "<style scoped>\n",
       "    .dataframe tbody tr th:only-of-type {\n",
       "        vertical-align: middle;\n",
       "    }\n",
       "\n",
       "    .dataframe tbody tr th {\n",
       "        vertical-align: top;\n",
       "    }\n",
       "\n",
       "    .dataframe thead th {\n",
       "        text-align: right;\n",
       "    }\n",
       "</style>\n",
       "<table border=\"1\" class=\"dataframe\">\n",
       "  <thead>\n",
       "    <tr style=\"text-align: right;\">\n",
       "      <th></th>\n",
       "      <th>Property Rights</th>\n",
       "      <th>Judical Effectiveness</th>\n",
       "      <th>Government Integrity</th>\n",
       "    </tr>\n",
       "  </thead>\n",
       "  <tbody>\n",
       "    <tr>\n",
       "      <th>0</th>\n",
       "      <td>19.6</td>\n",
       "      <td>29.6</td>\n",
       "      <td>25.2</td>\n",
       "    </tr>\n",
       "    <tr>\n",
       "      <th>1</th>\n",
       "      <td>54.8</td>\n",
       "      <td>30.6</td>\n",
       "      <td>40.4</td>\n",
       "    </tr>\n",
       "    <tr>\n",
       "      <th>2</th>\n",
       "      <td>31.6</td>\n",
       "      <td>36.2</td>\n",
       "      <td>28.9</td>\n",
       "    </tr>\n",
       "  </tbody>\n",
       "</table>\n",
       "</div>"
      ],
      "text/plain": [
       "   Property Rights  Judical Effectiveness  Government Integrity\n",
       "0             19.6                   29.6                  25.2\n",
       "1             54.8                   30.6                  40.4\n",
       "2             31.6                   36.2                  28.9"
      ]
     },
     "execution_count": 187,
     "metadata": {},
     "output_type": "execute_result"
    }
   ],
   "source": [
    "to_be_tested.head(3)"
   ]
  },
  {
   "cell_type": "code",
   "execution_count": 188,
   "metadata": {},
   "outputs": [
    {
     "data": {
      "text/plain": [
       "(173, 3)"
      ]
     },
     "execution_count": 188,
     "metadata": {},
     "output_type": "execute_result"
    }
   ],
   "source": [
    "to_be_tested.shape"
   ]
  },
  {
   "cell_type": "code",
   "execution_count": 189,
   "metadata": {},
   "outputs": [
    {
     "data": {
      "text/plain": [
       "173"
      ]
     },
     "execution_count": 189,
     "metadata": {},
     "output_type": "execute_result"
    }
   ],
   "source": [
    "len(final_scores)"
   ]
  },
  {
   "cell_type": "code",
   "execution_count": 190,
   "metadata": {},
   "outputs": [
    {
     "data": {
      "text/plain": [
       "Property Rights          0\n",
       "Judical Effectiveness    0\n",
       "Government Integrity     0\n",
       "dtype: int64"
      ]
     },
     "execution_count": 190,
     "metadata": {},
     "output_type": "execute_result"
    }
   ],
   "source": [
    "to_be_tested.isna().sum()"
   ]
  },
  {
   "cell_type": "code",
   "execution_count": 191,
   "metadata": {},
   "outputs": [
    {
     "name": "stdout",
     "output_type": "stream",
     "text": [
      "Cool! Let's get started!\n"
     ]
    }
   ],
   "source": [
    "print('Cool! Let\\'s get started!')"
   ]
  },
  {
   "cell_type": "markdown",
   "metadata": {},
   "source": [
    "### We will be using k nearest neighbours classifier, with k = 4 "
   ]
  },
  {
   "cell_type": "code",
   "execution_count": 192,
   "metadata": {},
   "outputs": [],
   "source": [
    "X = to_be_tested.iloc[:, :].values"
   ]
  },
  {
   "cell_type": "code",
   "execution_count": 193,
   "metadata": {},
   "outputs": [
    {
     "data": {
      "text/plain": [
       "array([[19.6, 29.6, 25.2],\n",
       "       [54.8, 30.6, 40.4],\n",
       "       [31.6, 36.2, 28.9],\n",
       "       [35.9, 26.6, 20.5],\n",
       "       [47.8, 44.5, 33.5],\n",
       "       [57.2, 46.3, 38.6],\n",
       "       [79.1, 86.5, 79.9],\n",
       "       [84.2, 71.3, 77.4],\n",
       "       [59.1, 53.1, 44.7],\n",
       "       [42.2, 46.9, 43.7],\n",
       "       [63.5, 50.7, 53.6],\n",
       "       [36.1, 34.5, 24.4],\n",
       "       [52.9, 59.9, 53.8],\n",
       "       [55.2, 51.7, 37.7],\n",
       "       [81.3, 61.6, 72.5],\n",
       "       [41.7, 46.9, 27.2],\n",
       "       [37.2, 32.8, 28.1],\n",
       "       [62.5, 55.4, 54.5],\n",
       "       [20.5, 12.3, 19.7],\n",
       "       [40.2, 37.9, 30.2],\n",
       "       [58.1, 45.7, 52.4],\n",
       "       [57.3, 51.7, 28.1],\n",
       "       [64. , 56. , 43.7],\n",
       "       [62.5, 41.9, 35.1],\n",
       "       [49.1, 42.9, 36.6],\n",
       "       [34.7, 18.1, 30.6],\n",
       "       [20.6, 31. , 26.2],\n",
       "       [37.4, 27.6, 16.7],\n",
       "       [42.5, 31.3, 25.5],\n",
       "       [87. , 69.4, 84.6],\n",
       "       [44.1, 49. , 43.7],\n",
       "       [19.6, 29.6, 23.2],\n",
       "       [26.7, 24.6, 23.2],\n",
       "       [68.7, 56.3, 62.3],\n",
       "       [49.9, 75.2, 49.1],\n",
       "       [59.2, 34.3, 33.5],\n",
       "       [36.5, 29.6, 24.4],\n",
       "       [25.3, 30.7, 26.2],\n",
       "       [33.2, 29.6, 25.3],\n",
       "       [58.3, 54. , 54.5],\n",
       "       [40.9, 47.8, 38.1],\n",
       "       [66. , 42.9, 38.6],\n",
       "       [73.1, 48.1, 43.7],\n",
       "       [74.8, 47.6, 52.1],\n",
       "       [86.2, 77.8, 85.8],\n",
       "       [29.7, 18.1, 28.1],\n",
       "       [50.6, 18.1, 23.2],\n",
       "       [35.9, 20.2, 25.3],\n",
       "       [37. , 48.3, 29.2],\n",
       "       [37.6, 29.1, 23.4],\n",
       "       [29.7, 18.1, 15.8],\n",
       "       [35.5, 18.1, 19.7],\n",
       "       [81.5, 76. , 73.1],\n",
       "       [41.7, 42.9, 35. ],\n",
       "       [32.6, 40.9, 35.1],\n",
       "       [67.3, 42.9, 23.4],\n",
       "       [89.6, 81.2, 92.5],\n",
       "       [82.5, 66.1, 67.9],\n",
       "       [28.1, 30.6, 35.5],\n",
       "       [39.9, 42.5, 41.2],\n",
       "       [65.9, 54.6, 58.5],\n",
       "       [79.9, 75.4, 81.3],\n",
       "       [49.1, 44.2, 35.5],\n",
       "       [52.4, 49.5, 37.7],\n",
       "       [40.3, 32.3, 26.4],\n",
       "       [34.7, 32.6, 25.5],\n",
       "       [32.6, 42.9, 25.3],\n",
       "       [41.7, 42.9, 33.2],\n",
       "       [10.4, 25.3, 20.3],\n",
       "       [43.4, 31. , 25.3],\n",
       "       [93.3, 75.3, 83.8],\n",
       "       [60.9, 45.2, 35.3],\n",
       "       [87.4, 63.8, 83.8],\n",
       "       [57.3, 61.6, 47.8],\n",
       "       [52.2, 53.5, 39.5],\n",
       "       [33.5, 41.3, 35. ],\n",
       "       [85.8, 68.4, 78. ],\n",
       "       [80. , 73.4, 67.9],\n",
       "       [71.7, 49.8, 43.7],\n",
       "       [60.7, 49.2, 45. ],\n",
       "       [84.1, 68.5, 78. ],\n",
       "       [58.4, 52.6, 50.3],\n",
       "       [59.3, 56.1, 40.3],\n",
       "       [53.8, 46.9, 32.1],\n",
       "       [79.3, 57.5, 50.5],\n",
       "       [52.9, 43.3, 35.3],\n",
       "       [49.9, 27.9, 27.2],\n",
       "       [38.8, 42.5, 33.5],\n",
       "       [67.3, 48.4, 35.5],\n",
       "       [39.5, 26.6, 18.2],\n",
       "       [41.5, 45.7, 30.9],\n",
       "       [26.7, 39. , 24.2],\n",
       "       [73.6, 61.2, 47.8],\n",
       "       [83. , 72.4, 85.8],\n",
       "       [60. , 60. , 33.2],\n",
       "       [65.1, 60.7, 44.7],\n",
       "       [33.2, 24.4, 14.3],\n",
       "       [35.8, 40.1, 25.2],\n",
       "       [84.1, 68.2, 55.4],\n",
       "       [43.9, 36.4, 33.5],\n",
       "       [33.7, 33.4, 29.6],\n",
       "       [69.8, 50.4, 50.3],\n",
       "       [27.5, 30.6, 30.6],\n",
       "       [69.5, 62.1, 40.3],\n",
       "       [59.1, 34.9, 26.3],\n",
       "       [55.2, 29.6, 25.4],\n",
       "       [48.2, 23.8, 29.8],\n",
       "       [55.4, 51.8, 39.5],\n",
       "       [57.2, 47.1, 39.2],\n",
       "       [33.9, 35.2, 28.1],\n",
       "       [55.9, 54.7, 49.8],\n",
       "       [39.2, 34.7, 26.2],\n",
       "       [88. , 74.7, 89.1],\n",
       "       [95. , 83.5, 96.7],\n",
       "       [33.4, 18.7, 20.3],\n",
       "       [37.2, 31. , 34.1],\n",
       "       [36.5, 34.3, 20.5],\n",
       "       [86.1, 81.2, 92.3],\n",
       "       [58.1, 51.6, 53.8],\n",
       "       [41.5, 40.2, 30.6],\n",
       "       [60.4, 30.1, 34.1],\n",
       "       [37.4, 49. , 37.2],\n",
       "       [39.5, 30. , 25.5],\n",
       "       [56.1, 34. , 31.8],\n",
       "       [48.7, 36.4, 30.9],\n",
       "       [62.3, 44. , 49.8],\n",
       "       [71.5, 64.3, 59.5],\n",
       "       [64.5, 60. , 77.4],\n",
       "       [66.7, 51.9, 39.8],\n",
       "       [52.4, 45.1, 36.6],\n",
       "       [72.2, 83.2, 67.9],\n",
       "       [65.9, 63.8, 50.3],\n",
       "       [36.5, 63.8, 50.5],\n",
       "       [53.8, 31. , 37.7],\n",
       "       [37.4, 26.6, 35.5],\n",
       "       [55. , 62.7, 49.8],\n",
       "       [47.8, 40.4, 40.3],\n",
       "       [50.1, 44.8, 37.2],\n",
       "       [35.5, 34.5, 26.2],\n",
       "       [97.4, 92.4, 95.1],\n",
       "       [68.5, 37.2, 37.7],\n",
       "       [76.4, 46.5, 53.6],\n",
       "       [49.9, 51.7, 33.5],\n",
       "       [58.8, 39.3, 39.7],\n",
       "       [72.9, 51.4, 51.9],\n",
       "       [44.7, 39.4, 28.9],\n",
       "       [27.5, 22.2, 26.2],\n",
       "       [49.1, 22.2, 35.5],\n",
       "       [89.5, 84. , 88. ],\n",
       "       [85.3, 82. , 88. ],\n",
       "       [85.4, 70.1, 69.2],\n",
       "       [47.8, 52.1, 36.4],\n",
       "       [35.4, 41.4, 33.2],\n",
       "       [53.7, 45.9, 36.4],\n",
       "       [29.7, 13.1, 32.1],\n",
       "       [35.5, 29.6, 28.1],\n",
       "       [59.2, 26.6, 38.1],\n",
       "       [52.3, 40.6, 32.9],\n",
       "       [49.2, 42.7, 36.6],\n",
       "       [55.8, 49.8, 41.2],\n",
       "       [31.6, 29.8, 20.3],\n",
       "       [42.2, 38.5, 25.4],\n",
       "       [43.9, 31.5, 29.6],\n",
       "       [81.8, 87.1, 78.8],\n",
       "       [92.3, 85.9, 83.8],\n",
       "       [79.3, 78.6, 77.4],\n",
       "       [68.3, 58.9, 69.2],\n",
       "       [49.8, 34.3, 25.2],\n",
       "       [65.9, 36.4, 51.9],\n",
       "       [ 7.6, 13.1,  7.9],\n",
       "       [49.8, 40.3, 34. ],\n",
       "       [45. , 35.6, 32.3],\n",
       "       [29.7, 24.8, 15.8]])"
      ]
     },
     "execution_count": 193,
     "metadata": {},
     "output_type": "execute_result"
    }
   ],
   "source": [
    "X # Training Data"
   ]
  },
  {
   "cell_type": "code",
   "execution_count": 194,
   "metadata": {},
   "outputs": [],
   "source": [
    "y = final_scores"
   ]
  },
  {
   "cell_type": "code",
   "execution_count": 195,
   "metadata": {},
   "outputs": [
    {
     "data": {
      "text/plain": [
       "array([0, 1, 0, 0, 0, 1, 1, 1, 1, 1, 1, 0, 1, 0, 1, 0, 0, 1, 0, 1, 1, 0,\n",
       "       1, 1, 0, 0, 0, 0, 0, 1, 1, 0, 0, 1, 0, 1, 0, 0, 0, 1, 1, 1, 1, 1,\n",
       "       1, 0, 0, 0, 0, 1, 0, 0, 1, 0, 0, 1, 1, 1, 0, 0, 1, 1, 0, 0, 1, 0,\n",
       "       0, 0, 0, 0, 1, 1, 1, 0, 1, 0, 1, 1, 1, 1, 1, 1, 1, 0, 1, 0, 1, 0,\n",
       "       1, 0, 0, 0, 1, 1, 1, 1, 0, 0, 1, 0, 0, 1, 0, 1, 1, 0, 0, 0, 1, 0,\n",
       "       0, 0, 1, 1, 0, 0, 0, 1, 0, 0, 1, 0, 1, 1, 1, 1, 1, 1, 1, 0, 1, 1,\n",
       "       1, 1, 0, 0, 0, 1, 0, 1, 1, 1, 0, 0, 1, 0, 0, 0, 1, 1, 1, 0, 0, 1,\n",
       "       0, 0, 0, 0, 0, 1, 0, 0, 0, 1, 1, 1, 1, 0, 0, 0, 0, 0, 0])"
      ]
     },
     "execution_count": 195,
     "metadata": {},
     "output_type": "execute_result"
    }
   ],
   "source": [
    "y # Testing Data"
   ]
  },
  {
   "cell_type": "code",
   "execution_count": 196,
   "metadata": {},
   "outputs": [
    {
     "name": "stdout",
     "output_type": "stream",
     "text": [
      "Spitting into Training and Testing Data\n"
     ]
    }
   ],
   "source": [
    "print('Spitting into Training and Testing Data')"
   ]
  },
  {
   "cell_type": "code",
   "execution_count": 197,
   "metadata": {},
   "outputs": [],
   "source": [
    "from sklearn.model_selection import train_test_split\n",
    "\n",
    "\n",
    "X_train, X_test, y_train, y_test = train_test_split(X, y, test_size=0.20)"
   ]
  },
  {
   "cell_type": "code",
   "execution_count": 198,
   "metadata": {},
   "outputs": [
    {
     "data": {
      "text/plain": [
       "array([[40.2, 37.9, 30.2],\n",
       "       [19.6, 29.6, 25.2],\n",
       "       [81.5, 76. , 73.1],\n",
       "       [58.1, 45.7, 52.4],\n",
       "       [49.8, 40.3, 34. ],\n",
       "       [97.4, 92.4, 95.1],\n",
       "       [43.9, 31.5, 29.6],\n",
       "       [54.8, 30.6, 40.4],\n",
       "       [36.1, 34.5, 24.4],\n",
       "       [86.1, 81.2, 92.3],\n",
       "       [68.5, 37.2, 37.7],\n",
       "       [35.4, 41.4, 33.2],\n",
       "       [31.6, 29.8, 20.3],\n",
       "       [62.5, 55.4, 54.5],\n",
       "       [49.1, 22.2, 35.5],\n",
       "       [92.3, 85.9, 83.8],\n",
       "       [37.4, 49. , 37.2],\n",
       "       [20.6, 31. , 26.2],\n",
       "       [85.4, 70.1, 69.2],\n",
       "       [29.7, 24.8, 15.8],\n",
       "       [ 7.6, 13.1,  7.9],\n",
       "       [52.2, 53.5, 39.5],\n",
       "       [41.7, 46.9, 27.2],\n",
       "       [39.9, 42.5, 41.2],\n",
       "       [48.7, 36.4, 30.9],\n",
       "       [73.6, 61.2, 47.8],\n",
       "       [39.2, 34.7, 26.2],\n",
       "       [68.7, 56.3, 62.3],\n",
       "       [42.2, 46.9, 43.7],\n",
       "       [41.7, 42.9, 35. ],\n",
       "       [32.6, 40.9, 35.1],\n",
       "       [89.5, 84. , 88. ],\n",
       "       [85.3, 82. , 88. ],\n",
       "       [72.2, 83.2, 67.9],\n",
       "       [35.8, 40.1, 25.2],\n",
       "       [29.7, 18.1, 15.8],\n",
       "       [65.9, 36.4, 51.9],\n",
       "       [49.8, 34.3, 25.2],\n",
       "       [20.5, 12.3, 19.7],\n",
       "       [49.9, 27.9, 27.2],\n",
       "       [49.9, 75.2, 49.1],\n",
       "       [66.7, 51.9, 39.8],\n",
       "       [65.9, 63.8, 50.3],\n",
       "       [34.7, 18.1, 30.6],\n",
       "       [57.3, 61.6, 47.8],\n",
       "       [35.9, 26.6, 20.5],\n",
       "       [42.5, 31.3, 25.5],\n",
       "       [84.1, 68.5, 78. ],\n",
       "       [56.1, 34. , 31.8],\n",
       "       [53.8, 46.9, 32.1],\n",
       "       [50.6, 18.1, 23.2],\n",
       "       [40.3, 32.3, 26.4],\n",
       "       [85.8, 68.4, 78. ],\n",
       "       [60.7, 49.2, 45. ],\n",
       "       [35.5, 29.6, 28.1],\n",
       "       [93.3, 75.3, 83.8],\n",
       "       [59.3, 56.1, 40.3],\n",
       "       [59.1, 53.1, 44.7],\n",
       "       [52.9, 43.3, 35.3],\n",
       "       [81.3, 61.6, 72.5],\n",
       "       [95. , 83.5, 96.7],\n",
       "       [27.5, 22.2, 26.2],\n",
       "       [45. , 35.6, 32.3],\n",
       "       [43.4, 31. , 25.3],\n",
       "       [37.4, 26.6, 35.5],\n",
       "       [89.6, 81.2, 92.5],\n",
       "       [83. , 72.4, 85.8],\n",
       "       [55. , 62.7, 49.8],\n",
       "       [55.9, 54.7, 49.8],\n",
       "       [58.3, 54. , 54.5],\n",
       "       [33.9, 35.2, 28.1],\n",
       "       [40.9, 47.8, 38.1],\n",
       "       [67.3, 48.4, 35.5],\n",
       "       [55.2, 51.7, 37.7],\n",
       "       [36.5, 29.6, 24.4],\n",
       "       [10.4, 25.3, 20.3],\n",
       "       [62.5, 41.9, 35.1],\n",
       "       [33.5, 41.3, 35. ],\n",
       "       [86.2, 77.8, 85.8],\n",
       "       [73.1, 48.1, 43.7],\n",
       "       [35.5, 34.5, 26.2],\n",
       "       [65.9, 54.6, 58.5],\n",
       "       [25.3, 30.7, 26.2],\n",
       "       [29.7, 18.1, 28.1],\n",
       "       [57.2, 46.3, 38.6],\n",
       "       [48.2, 23.8, 29.8],\n",
       "       [55.8, 49.8, 41.2],\n",
       "       [41.5, 40.2, 30.6],\n",
       "       [87.4, 63.8, 83.8],\n",
       "       [36.5, 34.3, 20.5],\n",
       "       [53.7, 45.9, 36.4],\n",
       "       [53.8, 31. , 37.7],\n",
       "       [39.5, 26.6, 18.2],\n",
       "       [49.2, 42.7, 36.6],\n",
       "       [80. , 73.4, 67.9],\n",
       "       [37. , 48.3, 29.2],\n",
       "       [55.4, 51.8, 39.5],\n",
       "       [60. , 60. , 33.2],\n",
       "       [35.9, 20.2, 25.3],\n",
       "       [37.6, 29.1, 23.4],\n",
       "       [57.3, 51.7, 28.1],\n",
       "       [52.4, 49.5, 37.7],\n",
       "       [26.7, 24.6, 23.2],\n",
       "       [43.9, 36.4, 33.5],\n",
       "       [69.5, 62.1, 40.3],\n",
       "       [84.2, 71.3, 77.4],\n",
       "       [58.4, 52.6, 50.3],\n",
       "       [65.1, 60.7, 44.7],\n",
       "       [37.2, 31. , 34.1],\n",
       "       [84.1, 68.2, 55.4],\n",
       "       [87. , 69.4, 84.6],\n",
       "       [74.8, 47.6, 52.1],\n",
       "       [38.8, 42.5, 33.5],\n",
       "       [29.7, 13.1, 32.1],\n",
       "       [76.4, 46.5, 53.6],\n",
       "       [41.5, 45.7, 30.9],\n",
       "       [71.5, 64.3, 59.5],\n",
       "       [58.8, 39.3, 39.7],\n",
       "       [33.7, 33.4, 29.6],\n",
       "       [55.2, 29.6, 25.4],\n",
       "       [42.2, 38.5, 25.4],\n",
       "       [37.2, 32.8, 28.1],\n",
       "       [59.2, 34.3, 33.5],\n",
       "       [35.5, 18.1, 19.7],\n",
       "       [67.3, 42.9, 23.4],\n",
       "       [79.3, 78.6, 77.4],\n",
       "       [39.5, 30. , 25.5],\n",
       "       [64. , 56. , 43.7],\n",
       "       [28.1, 30.6, 35.5],\n",
       "       [79.9, 75.4, 81.3],\n",
       "       [41.7, 42.9, 33.2],\n",
       "       [50.1, 44.8, 37.2],\n",
       "       [47.8, 44.5, 33.5],\n",
       "       [37.4, 27.6, 16.7],\n",
       "       [49.1, 44.2, 35.5],\n",
       "       [52.3, 40.6, 32.9],\n",
       "       [44.1, 49. , 43.7],\n",
       "       [59.1, 34.9, 26.3]])"
      ]
     },
     "execution_count": 198,
     "metadata": {},
     "output_type": "execute_result"
    }
   ],
   "source": [
    "X_train"
   ]
  },
  {
   "cell_type": "code",
   "execution_count": 199,
   "metadata": {},
   "outputs": [
    {
     "data": {
      "text/plain": [
       "array([[49.1, 42.9, 36.6],\n",
       "       [49.9, 51.7, 33.5],\n",
       "       [33.2, 29.6, 25.3],\n",
       "       [58.1, 51.6, 53.8],\n",
       "       [52.4, 45.1, 36.6],\n",
       "       [47.8, 52.1, 36.4],\n",
       "       [64.5, 60. , 77.4],\n",
       "       [62.3, 44. , 49.8],\n",
       "       [72.9, 51.4, 51.9],\n",
       "       [66. , 42.9, 38.6],\n",
       "       [81.8, 87.1, 78.8],\n",
       "       [82.5, 66.1, 67.9],\n",
       "       [79.1, 86.5, 79.9],\n",
       "       [69.8, 50.4, 50.3],\n",
       "       [44.7, 39.4, 28.9],\n",
       "       [26.7, 39. , 24.2],\n",
       "       [36.5, 63.8, 50.5],\n",
       "       [60.4, 30.1, 34.1],\n",
       "       [60.9, 45.2, 35.3],\n",
       "       [47.8, 40.4, 40.3],\n",
       "       [68.3, 58.9, 69.2],\n",
       "       [32.6, 42.9, 25.3],\n",
       "       [33.4, 18.7, 20.3],\n",
       "       [52.9, 59.9, 53.8],\n",
       "       [33.2, 24.4, 14.3],\n",
       "       [71.7, 49.8, 43.7],\n",
       "       [63.5, 50.7, 53.6],\n",
       "       [31.6, 36.2, 28.9],\n",
       "       [79.3, 57.5, 50.5],\n",
       "       [57.2, 47.1, 39.2],\n",
       "       [27.5, 30.6, 30.6],\n",
       "       [34.7, 32.6, 25.5],\n",
       "       [59.2, 26.6, 38.1],\n",
       "       [88. , 74.7, 89.1],\n",
       "       [19.6, 29.6, 23.2]])"
      ]
     },
     "execution_count": 199,
     "metadata": {},
     "output_type": "execute_result"
    }
   ],
   "source": [
    "X_test"
   ]
  },
  {
   "cell_type": "code",
   "execution_count": 200,
   "metadata": {},
   "outputs": [
    {
     "data": {
      "text/plain": [
       "array([1, 0, 1, 1, 0, 1, 0, 1, 0, 1, 1, 0, 0, 1, 0, 1, 0, 0, 1, 0, 0, 1,\n",
       "       0, 0, 1, 1, 0, 1, 1, 0, 0, 1, 1, 1, 0, 0, 0, 0, 0, 1, 0, 1, 1, 0,\n",
       "       0, 0, 0, 1, 1, 0, 0, 1, 1, 1, 0, 1, 1, 1, 0, 1, 1, 0, 0, 0, 0, 1,\n",
       "       1, 0, 0, 1, 0, 1, 1, 0, 0, 0, 1, 0, 1, 1, 0, 1, 0, 0, 1, 0, 1, 0,\n",
       "       1, 0, 1, 1, 0, 0, 1, 0, 0, 1, 0, 1, 0, 0, 0, 0, 1, 1, 1, 1, 0, 1,\n",
       "       1, 1, 0, 0, 1, 0, 1, 0, 0, 0, 0, 0, 1, 0, 1, 1, 1, 1, 0, 1, 0, 1,\n",
       "       0, 0, 0, 0, 1, 1])"
      ]
     },
     "execution_count": 200,
     "metadata": {},
     "output_type": "execute_result"
    }
   ],
   "source": [
    "y_train"
   ]
  },
  {
   "cell_type": "code",
   "execution_count": 201,
   "metadata": {},
   "outputs": [
    {
     "data": {
      "text/plain": [
       "array([0, 0, 0, 0, 0, 0, 1, 1, 1, 1, 1, 1, 1, 1, 0, 0, 1, 1, 1, 0, 1, 0,\n",
       "       0, 1, 0, 1, 1, 0, 1, 1, 0, 0, 0, 1, 0])"
      ]
     },
     "execution_count": 201,
     "metadata": {},
     "output_type": "execute_result"
    }
   ],
   "source": [
    "y_test"
   ]
  },
  {
   "cell_type": "code",
   "execution_count": 202,
   "metadata": {},
   "outputs": [],
   "source": [
    "# Imports\n",
    "\n",
    "from sklearn.preprocessing import StandardScaler\n",
    "from sklearn.neighbors import KNeighborsClassifier\n",
    "from sklearn.metrics import classification_report, confusion_matrix\n"
   ]
  },
  {
   "cell_type": "markdown",
   "metadata": {},
   "source": [
    "### Feature Scaling:"
   ]
  },
  {
   "cell_type": "code",
   "execution_count": 203,
   "metadata": {},
   "outputs": [],
   "source": [
    "scaler = StandardScaler()\n",
    "scaler.fit(X_train)\n",
    "\n",
    "X_train = scaler.transform(X_train)\n",
    "X_test = scaler.transform(X_test)"
   ]
  },
  {
   "cell_type": "code",
   "execution_count": 204,
   "metadata": {},
   "outputs": [
    {
     "data": {
      "text/plain": [
       "KNeighborsClassifier(algorithm='auto', leaf_size=30, metric='minkowski',\n",
       "           metric_params=None, n_jobs=None, n_neighbors=4, p=2,\n",
       "           weights='uniform')"
      ]
     },
     "execution_count": 204,
     "metadata": {},
     "output_type": "execute_result"
    }
   ],
   "source": [
    "# Building a classifier and fitting it to the training data\n",
    "\n",
    "classifier = KNeighborsClassifier(n_neighbors=4)\n",
    "classifier.fit(X_train, y_train)"
   ]
  },
  {
   "cell_type": "code",
   "execution_count": 205,
   "metadata": {},
   "outputs": [],
   "source": [
    "# Predicting the results\n",
    "\n",
    "y_pred = classifier.predict(X_test)"
   ]
  },
  {
   "cell_type": "code",
   "execution_count": 206,
   "metadata": {},
   "outputs": [
    {
     "data": {
      "text/plain": [
       "array([0, 0, 0, 1, 0, 0, 1, 1, 1, 1, 1, 1, 1, 1, 0, 0, 0, 1, 1, 0, 1, 0,\n",
       "       0, 0, 0, 1, 1, 0, 1, 1, 0, 0, 1, 1, 0])"
      ]
     },
     "execution_count": 206,
     "metadata": {},
     "output_type": "execute_result"
    }
   ],
   "source": [
    "y_pred"
   ]
  },
  {
   "cell_type": "code",
   "execution_count": 207,
   "metadata": {},
   "outputs": [],
   "source": [
    "# Reporting Accuracy\n",
    "\n",
    "def print_report(pred,test):\n",
    "    count = 0\n",
    "    for i in range(len(pred)):\n",
    "        if pred[i] == test[i]:\n",
    "            count+=1 \n",
    "    accuracy = float(count/len(pred))\n",
    "    print('Correct: '+str(count))\n",
    "    print('Number of Values: '+str(len(pred)))\n",
    "    print('Acuuracy: '+str(accuracy))\n"
   ]
  },
  {
   "cell_type": "code",
   "execution_count": 208,
   "metadata": {},
   "outputs": [
    {
     "name": "stdout",
     "output_type": "stream",
     "text": [
      "[[15  2]\n",
      " [ 2 16]]\n",
      "              precision    recall  f1-score   support\n",
      "\n",
      "           0       0.88      0.88      0.88        17\n",
      "           1       0.89      0.89      0.89        18\n",
      "\n",
      "   micro avg       0.89      0.89      0.89        35\n",
      "   macro avg       0.89      0.89      0.89        35\n",
      "weighted avg       0.89      0.89      0.89        35\n",
      "\n"
     ]
    }
   ],
   "source": [
    "print(confusion_matrix(y_test, y_pred))\n",
    "print(classification_report(y_test, y_pred))"
   ]
  },
  {
   "cell_type": "markdown",
   "metadata": {},
   "source": [
    "#### We have an accuracy of about 87%"
   ]
  },
  {
   "cell_type": "markdown",
   "metadata": {},
   "source": [
    "### Let's try for k = 1 to 30 and see which k gives highest accuracy"
   ]
  },
  {
   "cell_type": "code",
   "execution_count": 209,
   "metadata": {},
   "outputs": [],
   "source": [
    "error = []   # Stores error values corresponding to each 'k'\n",
    "for i in range(1, 30):\n",
    "    knn = KNeighborsClassifier(n_neighbors=i)\n",
    "    knn.fit(X_train, y_train)\n",
    "    predi = knn.predict(X_test)\n",
    "    error.append(np.mean(predi != y_test))"
   ]
  },
  {
   "cell_type": "code",
   "execution_count": 210,
   "metadata": {},
   "outputs": [
    {
     "data": {
      "text/plain": [
       "[0.17142857142857143,\n",
       " 0.11428571428571428,\n",
       " 0.14285714285714285,\n",
       " 0.11428571428571428,\n",
       " 0.11428571428571428,\n",
       " 0.14285714285714285,\n",
       " 0.11428571428571428,\n",
       " 0.08571428571428572,\n",
       " 0.11428571428571428,\n",
       " 0.14285714285714285,\n",
       " 0.11428571428571428,\n",
       " 0.11428571428571428,\n",
       " 0.11428571428571428,\n",
       " 0.11428571428571428,\n",
       " 0.11428571428571428,\n",
       " 0.14285714285714285,\n",
       " 0.08571428571428572,\n",
       " 0.14285714285714285,\n",
       " 0.08571428571428572,\n",
       " 0.11428571428571428,\n",
       " 0.11428571428571428,\n",
       " 0.14285714285714285,\n",
       " 0.11428571428571428,\n",
       " 0.11428571428571428,\n",
       " 0.08571428571428572,\n",
       " 0.08571428571428572,\n",
       " 0.08571428571428572,\n",
       " 0.08571428571428572,\n",
       " 0.08571428571428572]"
      ]
     },
     "execution_count": 210,
     "metadata": {},
     "output_type": "execute_result"
    }
   ],
   "source": [
    "error"
   ]
  },
  {
   "cell_type": "markdown",
   "metadata": {},
   "source": [
    "### \"The purpose of visualization is insight, not pictures.  ―Ben Shneiderman\""
   ]
  },
  {
   "cell_type": "code",
   "execution_count": 211,
   "metadata": {},
   "outputs": [
    {
     "data": {
      "text/plain": [
       "[<matplotlib.lines.Line2D at 0x7f8bfd09df10>]"
      ]
     },
     "execution_count": 211,
     "metadata": {},
     "output_type": "execute_result"
    },
    {
     "data": {
      "image/png": "[encoded data removed]",
      "text/plain": [
       "<Figure size 432x288 with 1 Axes>"
      ]
     },
     "metadata": {
      "needs_background": "light"
     },
     "output_type": "display_data"
    }
   ],
   "source": [
    "plt.plot(range(1,30),error)"
   ]
  },
  {
   "cell_type": "code",
   "execution_count": 212,
   "metadata": {},
   "outputs": [
    {
     "name": "stdout",
     "output_type": "stream",
     "text": [
      "So what can we infer from this?\n"
     ]
    }
   ],
   "source": [
    "print(\"So what can we infer from this?\")"
   ]
  },
  {
   "cell_type": "markdown",
   "metadata": {},
   "source": [
    "### The error is minimum at k = 2 and k = 3, as evident in the data"
   ]
  },
  {
   "cell_type": "code",
   "execution_count": 213,
   "metadata": {},
   "outputs": [],
   "source": [
    "array_of_errors = np.array(error)"
   ]
  },
  {
   "cell_type": "code",
   "execution_count": 214,
   "metadata": {},
   "outputs": [
    {
     "data": {
      "text/plain": [
       "array([0.17142857, 0.11428571, 0.14285714, 0.11428571, 0.11428571,\n",
       "       0.14285714, 0.11428571, 0.08571429, 0.11428571, 0.14285714,\n",
       "       0.11428571, 0.11428571, 0.11428571, 0.11428571, 0.11428571,\n",
       "       0.14285714, 0.08571429, 0.14285714, 0.08571429, 0.11428571,\n",
       "       0.11428571, 0.14285714, 0.11428571, 0.11428571, 0.08571429,\n",
       "       0.08571429, 0.08571429, 0.08571429, 0.08571429])"
      ]
     },
     "execution_count": 214,
     "metadata": {},
     "output_type": "execute_result"
    }
   ],
   "source": [
    "array_of_errors"
   ]
  },
  {
   "cell_type": "code",
   "execution_count": 215,
   "metadata": {},
   "outputs": [
    {
     "name": "stdout",
     "output_type": "stream",
     "text": [
      "1st k with highest accuracy = 8\n"
     ]
    }
   ],
   "source": [
    "print(\"1st k with highest accuracy =\"),\n",
    "print(np.argmin(array_of_errors)) + 1"
   ]
  },
  {
   "cell_type": "markdown",
   "metadata": {},
   "source": [
    "### Winners and Losers"
   ]
  },
  {
   "cell_type": "code",
   "execution_count": 216,
   "metadata": {},
   "outputs": [
    {
     "name": "stdout",
     "output_type": "stream",
     "text": [
      "Smallest k with highest accuracy = 8\n",
      "Smallest k with lowest accuracy = 1\n"
     ]
    }
   ],
   "source": [
    "print(\"Smallest k with highest accuracy =\"),\n",
    "print(np.argmin(array_of_errors)) + 1\n",
    "print(\"Smallest k with lowest accuracy =\"),\n",
    "print(np.argmax(array_of_errors)) + 1"
   ]
  },
  {
   "cell_type": "markdown",
   "metadata": {},
   "source": [
    "## This concludes the analysis of economies and its contributing factors\n",
    "## Check out my GitHub for more : https://github.com/vijay-jaisankar"
   ]
  },
  {
   "cell_type": "code",
   "execution_count": null,
   "metadata": {},
   "outputs": [],
   "source": []
  },
  {
   "cell_type": "code",
   "execution_count": null,
   "metadata": {},
   "outputs": [],
   "source": []
  },
  {
   "cell_type": "code",
   "execution_count": null,
   "metadata": {},
   "outputs": [],
   "source": []
  },
  {
   "cell_type": "code",
   "execution_count": null,
   "metadata": {},
   "outputs": [],
   "source": []
  }
 ],
 "metadata": {
  "kernelspec": {
   "display_name": "Python 3",
   "language": "python",
   "name": "python3"
  },
  "language_info": {
   "codemirror_mode": {
    "name": "ipython",
    "version": 2
   },
   "file_extension": ".py",
   "mimetype": "text/x-python",
   "name": "python",
   "nbconvert_exporter": "python",
   "pygments_lexer": "ipython2",
   "version": "2.7.17"
  }
 },
 "nbformat": 4,
 "nbformat_minor": 2
}
